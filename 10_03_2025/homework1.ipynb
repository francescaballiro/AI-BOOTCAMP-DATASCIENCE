{
 "cells": [
  {
   "cell_type": "markdown",
   "id": "6db782b7-1f58-4da4-b0cd-192ade830fc2",
   "metadata": {},
   "source": [
    "Ho eseguito l'esercizio anche in questo modo cercando di gestire un problema di classi sbilanciate (con una prevalenza della classe minoritaria molto bassa). Ho applicato SMOTE per aumentare la classe minoritaria (i malati). In questo modo ottengo comunque una recall alta e un F1-score decisamente migliore di quello del testo.\n",
    "\n",
    "Nel complesso quindi il modello  ottenuto è meno problematico rispetto a quello descritto nel testo, dove si fa riferimento a un modello con un basso F1-score e precisione e una recall alta. Qui, pur avendo una recall abbastanza buona, il modello non soffre di un'alta quantità di falsi positivi come nel caso descritto nel testo."
   ]
  },
  {
   "cell_type": "code",
   "execution_count": 3,
   "id": "743c4d2a-2270-4f07-a465-d9709eca7415",
   "metadata": {},
   "outputs": [
    {
     "name": "stdout",
     "output_type": "stream",
     "text": [
      "Dopo SMOTE - Distribuzione delle classi nel training set:\n",
      "target\n",
      "0    69650\n",
      "1    69650\n",
      "Name: count, dtype: int64\n",
      "Classification Report (per classe):\n",
      "              precision    recall  f1-score   support\n",
      "\n",
      "           0       1.00      1.00      1.00     29850\n",
      "           1       0.58      0.81      0.68       150\n",
      "\n",
      "    accuracy                           1.00     30000\n",
      "   macro avg       0.79      0.91      0.84     30000\n",
      "weighted avg       1.00      1.00      1.00     30000\n",
      "\n"
     ]
    },
    {
     "data": {
      "image/png": "[encoded data removed]",
      "text/plain": [
       "<Figure size 800x600 with 1 Axes>"
      ]
     },
     "metadata": {},
     "output_type": "display_data"
    },
    {
     "name": "stdout",
     "output_type": "stream",
     "text": [
      "F1-Score globale: 0.676\n",
      "Recall globale: 0.813\n"
     ]
    }
   ],
   "source": [
    "import numpy as np\n",
    "import pandas as pd\n",
    "from sklearn.datasets import make_classification\n",
    "from sklearn.model_selection import train_test_split\n",
    "from sklearn.metrics import f1_score, recall_score, classification_report, confusion_matrix\n",
    "from sklearn.ensemble import RandomForestClassifier\n",
    "from imblearn.over_sampling import SMOTE\n",
    "import seaborn as sns\n",
    "import matplotlib.pyplot as plt\n",
    "\n",
    "# Impostazioni casuali per la riproducibilità\n",
    "np.random.seed(42)\n",
    "\n",
    "# Parametri iniziali\n",
    "prevalence = 0.005  # Prevalenza della malattia (0.5%)\n",
    "\n",
    "# Crea un set di dati sbilanciato con il 90% di campioni nella classe 0 e il 10% nella classe 1\n",
    "X, y = make_classification(\n",
    "    n_samples=100000, \n",
    "    n_features=10,\n",
    "    n_informative=5, \n",
    "    n_redundant=2,\n",
    "    n_clusters_per_class=1,\n",
    "    weights=[1-prevalence],  # Distribuzione delle classi: 90% classe 0, 10% classe 1\n",
    "    flip_y=0,\n",
    "    random_state=42\n",
    ")\n",
    "\n",
    "# Converti in DataFrame per una manipolazione più semplice\n",
    "df = pd.DataFrame(X, columns=[f'feature_{i}' for i in range(X.shape[1])])\n",
    "df['target'] = y\n",
    "\n",
    "# Split del dataset\n",
    "X = df.drop('target', axis=1)\n",
    "y = df['target']\n",
    "X_train, X_test, y_train, y_test = train_test_split(X, y, test_size=0.3, random_state=42, stratify=y)\n",
    "\n",
    "# Applicazione di SMOTE\n",
    "smote = SMOTE(random_state=42)\n",
    "X_train_smote, y_train_smote = smote.fit_resample(X_train, y_train)\n",
    "\n",
    "# Verifica la nuova distribuzione delle classi nel training set\n",
    "print(f\"Dopo SMOTE - Distribuzione delle classi nel training set:\\n{pd.Series(y_train_smote).value_counts()}\")\n",
    "\n",
    "# Funzione per valutare il modello\n",
    "def evaluate_model(model, X_train, X_test, y_train, y_test):\n",
    "    # Allena il modello\n",
    "    model.fit(X_train, y_train)\n",
    "    \n",
    "    # Fai le predizioni\n",
    "    y_pred = model.predict(X_test)\n",
    "    \n",
    "    # Calcola F1-Score e Recall\n",
    "    f1 = f1_score(y_test, y_pred)\n",
    "    recall = recall_score(y_test, y_pred)\n",
    "    \n",
    "    # Stampa il report di classificazione per le singole classi\n",
    "    print(\"Classification Report (per classe):\")\n",
    "    print(classification_report(y_test, y_pred))\n",
    "    \n",
    "    # Visualizza la matrice di confusione\n",
    "    cm = confusion_matrix(y_test, y_pred)\n",
    "    plt.figure(figsize=(8, 6))\n",
    "    sns.heatmap(cm, annot=True, fmt='d', cmap='Blues', cbar=False,\n",
    "                xticklabels=['Predicted 0', 'Predicted 1'],\n",
    "                yticklabels=['Actual 0', 'Actual 1'])\n",
    "    plt.title('Matrice di Confusione')\n",
    "    plt.ylabel('Etichette Reali')\n",
    "    plt.xlabel('Etichette Predette')\n",
    "    plt.show()\n",
    "    \n",
    "    # Stampa F1-Score e Recall globali\n",
    "    print(f\"F1-Score globale: {f1:.3f}\")\n",
    "    print(f\"Recall globale: {recall:.3f}\")\n",
    "    \n",
    "    return {'f1_score': f1, 'recall': recall}\n",
    "\n",
    "# Allena il modello dopo SMOTE\n",
    "smote_model = RandomForestClassifier(random_state=42)\n",
    "smote_results = evaluate_model(smote_model, X_train_smote, X_test, y_train_smote, y_test)\n"
   ]
  },
  {
   "cell_type": "markdown",
   "id": "41cfcc09-9de1-4af5-b450-af5ee3a5144f",
   "metadata": {},
   "source": []
  }
 ],
 "metadata": {
  "kernelspec": {
   "display_name": "Python 3 (ipykernel)",
   "language": "python",
   "name": "python3"
  },
  "language_info": {
   "codemirror_mode": {
    "name": "ipython",
    "version": 3
   },
   "file_extension": ".py",
   "mimetype": "text/x-python",
   "name": "python",
   "nbconvert_exporter": "python",
   "pygments_lexer": "ipython3",
   "version": "3.13.1"
  }
 },
 "nbformat": 4,
 "nbformat_minor": 5
}
