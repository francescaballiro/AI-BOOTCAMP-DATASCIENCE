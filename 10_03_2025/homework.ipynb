{
 "cells": [
  {
   "cell_type": "markdown",
   "id": "0ff43a75-4912-4cf1-91c8-7132211d9a69",
   "metadata": {},
   "source": [
    "## HOMEWORK EXERCISE\n",
    "\n",
    "starting from the problem and parameters present on [this link](https://www.linkedin.com/posts/andrea-palladino-22476a110_supponiamo-di-avere-una-malattia-che-colpisce-activity-7301207689387212801-VPix?utm_source=share&utm_medium=member_android&rcm=ACoAAAksxjABZB9m8X74la1Lx6eNknqoFjhuwXQ):\n",
    "- create a synthetic training set resembling the described context\n",
    "- fit a classification model \n",
    "- compare results with the test results described in the link"
   ]
  },
  {
   "cell_type": "code",
   "execution_count": 28,
   "id": "fbbf61b2-d8e1-4be9-9ea7-2c4a04447e54",
   "metadata": {},
   "outputs": [
    {
     "name": "stdout",
     "output_type": "stream",
     "text": [
      "Matrice di Confusione:\n",
      "[[2990    0]\n",
      " [   6    4]]\n",
      "\n",
      "Report di Classificazione:\n",
      "              precision    recall  f1-score   support\n",
      "\n",
      "           0       1.00      1.00      1.00      2990\n",
      "           1       1.00      0.40      0.57        10\n",
      "\n",
      "    accuracy                           1.00      3000\n",
      "   macro avg       1.00      0.70      0.79      3000\n",
      "weighted avg       1.00      1.00      1.00      3000\n",
      "\n",
      "\n",
      "Recall (Sensibilità): 0.4000\n",
      "F1-Score: 0.5714\n"
     ]
    },
    {
     "data": {
      "image/png": "[encoded data removed]",
      "text/plain": [
       "<Figure size 600x500 with 2 Axes>"
      ]
     },
     "metadata": {},
     "output_type": "display_data"
    },
    {
     "name": "stdout",
     "output_type": "stream",
     "text": [
      "F1-Score Originale: 0.15\n",
      "Il nuovo modello ha un F1-Score migliore rispetto al test originale: 0.5714\n"
     ]
    }
   ],
   "source": [
    "import numpy as np\n",
    "import pandas as pd\n",
    "import seaborn as sns\n",
    "import matplotlib.pyplot as plt\n",
    "from sklearn.model_selection import train_test_split\n",
    "from sklearn.ensemble import RandomForestClassifier\n",
    "from sklearn.metrics import confusion_matrix, classification_report, recall_score, f1_score\n",
    "\n",
    "\n",
    "# Parametri\n",
    "n_samples = 10000  # Numero totale di campioni\n",
    "prevalence = 0.005  # Prevalenza della malattia \n",
    "random_seed = 42  # Impostiamo un seme per la riproducibilità\n",
    "\n",
    "# Impostiamo il seme per la generazione casuale\n",
    "np.random.seed(random_seed)\n",
    "\n",
    "# 1. Generazione del target \"veramente malato\" (disease status) in base alla prevalenza\n",
    "disease_status = np.random.binomial(1, prevalence, n_samples)\n",
    "\n",
    "# 2. Generazione delle variabili informative\n",
    "# Traslucenza nucale:\n",
    "translucenza_nucale = np.random.uniform(1.0, 3.0, n_samples)\n",
    "\n",
    "# Salute della placenta: \n",
    "salute_placenta = np.random.uniform(0.0, 1.0, n_samples)\n",
    "\n",
    "# Età della madre: le madri di bambini malati tendono ad essere più anziane\n",
    "eta_madre = np.random.randint(18, 46, n_samples)\n",
    "eta_madre = np.where(disease_status == 1, eta_madre + np.random.randint(2, 5, n_samples), eta_madre)\n",
    "\n",
    "# 3. Creazione del DataFrame\n",
    "df = pd.DataFrame({\n",
    "    'traslucenza_nucale': translucenza_nucale,\n",
    "    'salute_placenta': salute_placenta,\n",
    "    'eta_madre': eta_madre,\n",
    "    'disease_status': disease_status  # Lo stato reale della malattia (target)\n",
    "})\n",
    "\n",
    "# Divisione del dataset in variabili indipendenti (X) e variabile dipendente (y)\n",
    "X = df[['traslucenza_nucale', 'salute_placenta', 'eta_madre']]\n",
    "y = df['disease_status']\n",
    "\n",
    "# Divisione in training set e test set\n",
    "X_train, X_test, y_train, y_test = train_test_split(X, y, test_size=0.3, random_state=random_seed)\n",
    "\n",
    "# 5. Creazione e allenamento del modello Random Forest\n",
    "rf_model = RandomForestClassifier(random_state=42)\n",
    "rf_model.fit(X_train, y_train)\n",
    "\n",
    "# 6. Predizione sui dati di test\n",
    "y_pred = rf_model.predict(X_test)\n",
    "\n",
    "# 7. Calcolo delle metriche di classificazione\n",
    "conf_matrix = confusion_matrix(y_test, y_pred)\n",
    "classification_rep = classification_report(y_test, y_pred)\n",
    "recall = recall_score(y_test, y_pred)\n",
    "f1 = f1_score(y_test, y_pred)\n",
    "\n",
    "# Mostriamo i risultati\n",
    "print(\"Matrice di Confusione:\")\n",
    "print(conf_matrix)\n",
    "print(\"\\nReport di Classificazione:\")\n",
    "print(classification_rep)\n",
    "print(f\"\\nRecall (Sensibilità): {recall:.4f}\")\n",
    "print(f\"F1-Score: {f1:.4f}\")\n",
    "\n",
    "# 8. Visualizzazione della matrice di confusione\n",
    "plt.figure(figsize=(6, 5))\n",
    "sns.heatmap(conf_matrix, annot=True, fmt='d', cmap='Blues', xticklabels=['Sano (0)', 'Malato (1)'], yticklabels=['Sano (0)', 'Malato (1)'])\n",
    "plt.title('Matrice di Confusione')\n",
    "plt.xlabel('Predizione')\n",
    "plt.ylabel('Reale')\n",
    "plt.show()\n",
    "\n",
    "# 9. Confronto con i risultati del test descritto\n",
    "original_f1_score = 0.15  # F1-Score del test originale\n",
    "print(f\"F1-Score Originale: {original_f1_score}\")\n",
    "if f1 > original_f1_score:\n",
    "   print(f\"Il nuovo modello ha un F1-Score migliore rispetto al test originale: {f1:.4f}\")\n",
    "else:\n",
    "    print(\"Il nuovo modello non ha migliorato l'F1-Score originale\")\n"
   ]
  },
  {
   "cell_type": "markdown",
   "id": "e6db3246-be0d-43be-bee0-5a5b9b6de7a0",
   "metadata": {},
   "source": [
    "### **Confronto con il testo**:\n",
    "Nel testo il modello ha:\n",
    "\n",
    "- **Elevato recall (90%)**,  il modello identifica  il 90% delle persone malate (i veri positivi).\n",
    "- **Bassa precision (8%)**,  quando il modello dice che una persona è malata, ha solo l'8% di probabilità di indovianare.\n",
    "- **F1-Score basso (0.15)**, perchè c'è una grande differenza tra precision e recall.\n",
    "\n",
    "### **Differenze principali**:\n",
    "\n",
    "1. **Recall**:\n",
    "   - Nella mia analisi il **recall è 0.40 (40%)**, molto più basso rispetto al 90% descritto nel testo. Il modello non è altrettanto bravo a identificare le persone malate\n",
    "\n",
    "2. **Precision**:\n",
    "   - Nella mia analisi la **precisione per il gruppo di persone malate (classe 1)** è **1.00**, quindi quando il modello prevede che una persona è malata, ha il 100% di probabilità di essere corretto. Però il numero di veri positivi (4) è molto basso rispetto ai falsi negativi (6). \n",
    "   - Nel testo, la precisione è bassa (8%), il che implica che il modello tende a generare **molti falsi positivi**. In questo caso, il modello descrive una situazione con molti malati correttamente identificati, ma anche molte persone sane erroneamente diagnosticate come malate.\n",
    "\n",
    "3. **F1-Score**:\n",
    "   - Nella mia analisi, l'**F1-Score è 0.5714**,  è migliore rispetto a 0.15 nel testo. c'è un certo bilanciamento tra recall e precisione, ma comunque dovrebbe essere migliorato\n",
    "   - Nel testo, l'F1-Score molto basso (0.15) è il risultato di un **alto recall ma bassa precisione** (molti falsi positivi), creando una situazione in cui il modello sembra efficace nell'identificare i malati, ma genera molti allarmi inutili.\n",
    "\n",
    "4. **Accuracy**:\n",
    "   - La **precisione complessiva** della mia analisi è alta, pari al 100% (1.00). Questo potrebbe essere fuorviante perché la tua prevalenza della malattia è molto bassa (5 malati su 1000), e quindi il modello è molto riesce a  predire meglio una persona non malata\n",
    "   - Nel caso del test descritto nel testo, il modello avrebbe una **precisione più bassa** a causa dell'alto numero di falsi positivi, quindi anche l'accuratezza sarebbe più bassa rispetto al tuo modello.\n",
    "\n",
    "### **Conclusioni**:\n",
    "\n",
    "1. **Differente gestione dei falsi positivi e negativi**: nella mia analisi, ho una precisione altissima per la classe 1 (malati), ma la **recall è bassa**. Non sto identificando in modo corretto tutte le persobe malate. Al contrario, nel testo, il modello descritto soffre di molti **falsi positivi** (con un alto recall ma bassa precisione), e il test genera **molti allarmi inutili**.\n",
    "\n",
    "2. **F1-Score più alto nel tuo modello**: Nella mia analisi ho un F1-Score migliore (0.5714), ma ho una bassa recall. "
   ]
  },
  {
   "cell_type": "code",
   "execution_count": null,
   "id": "77708f84-e79b-4290-9481-a95531225d3f",
   "metadata": {},
   "outputs": [],
   "source": []
  }
 ],
 "metadata": {
  "kernelspec": {
   "display_name": "Python 3 (ipykernel)",
   "language": "python",
   "name": "python3"
  },
  "language_info": {
   "codemirror_mode": {
    "name": "ipython",
    "version": 3
   },
   "file_extension": ".py",
   "mimetype": "text/x-python",
   "name": "python",
   "nbconvert_exporter": "python",
   "pygments_lexer": "ipython3",
   "version": "3.13.1"
  }
 },
 "nbformat": 4,
 "nbformat_minor": 5
}
