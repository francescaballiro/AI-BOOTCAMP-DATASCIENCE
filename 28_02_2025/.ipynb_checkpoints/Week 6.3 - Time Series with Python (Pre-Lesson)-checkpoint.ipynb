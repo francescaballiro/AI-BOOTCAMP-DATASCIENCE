{
 "cells": [
  {
   "cell_type": "code",
   "execution_count": null,
   "metadata": {},
   "outputs": [],
   "source": [
    "%pip install numpy==2.2.3 pandas==2.2.3 matplotlib==3.10.0 statsmodels==0.14.4"
   ]
  },
  {
   "cell_type": "markdown",
   "metadata": {},
   "source": [
    "A time series is a sequence of data points collected over time, typically at regular intervals (E.g. stock prices, weather, or sales figures over a specified period). Time series data is characterized by its chronological order, which allows for the analysis of trends, patterns, and seasonal variations."
   ]
  },
  {
   "cell_type": "markdown",
   "metadata": {
    "id": "N5bPb47x8Jp5"
   },
   "source": [
    "## Dates in Python"
   ]
  },
  {
   "cell_type": "code",
   "execution_count": null,
   "metadata": {
    "colab": {
     "base_uri": "https://localhost:8080/"
    },
    "id": "Xo4uGRtO734J",
    "outputId": "1064b3f9-7c9d-487a-d290-c340e7e9b948"
   },
   "outputs": [],
   "source": []
  },
  {
   "cell_type": "markdown",
   "metadata": {
    "id": "INo0zXeveAFQ"
   },
   "source": [
    "## Time Series in pandas"
   ]
  },
  {
   "cell_type": "code",
   "execution_count": 6,
   "metadata": {
    "colab": {
     "base_uri": "https://localhost:8080/"
    },
    "id": "6ugjz5XaeCWd",
    "outputId": "c599b00d-9c68-4220-b888-98cf927705f6"
   },
   "outputs": [],
   "source": []
  },
  {
   "cell_type": "code",
   "execution_count": null,
   "metadata": {
    "colab": {
     "base_uri": "https://localhost:8080/"
    },
    "id": "zNE8E1euAjne",
    "outputId": "b1cb1656-5954-44f0-940b-888e13933ac2"
   },
   "outputs": [],
   "source": []
  },
  {
   "cell_type": "code",
   "execution_count": null,
   "metadata": {
    "colab": {
     "base_uri": "https://localhost:8080/"
    },
    "id": "M2YHuNbEBg-p",
    "outputId": "54340138-9478-4929-c3b0-25a3407c13cf"
   },
   "outputs": [],
   "source": []
  },
  {
   "cell_type": "markdown",
   "metadata": {
    "id": "PYsg7RbS_P6Y"
   },
   "source": [
    "## Time Series Components"
   ]
  },
  {
   "cell_type": "markdown",
   "metadata": {
    "id": "MfgRUVdOGKp7"
   },
   "source": [
    "The **level** is the baseline component that is present in any time series. Plotted without other components, it would be a straight line. \n",
    "\n",
    "A **trend** represents a long-term increase or decrease in the data.\n",
    "\n",
    "A **seasonality** denotes that a time series is affected by one or more seasonal factors of a fixed and known period, such as the time of the year.\n",
    "\n",
    "A **cycle** occurs when there are rises and falls in the data that are not of a fixed frequency and lasts multiple years, usually due to economic conditions.\n",
    "\n",
    "The **error** component is the residual unexplainable component that \"remains\" after accounting for the other components."
   ]
  },
  {
   "cell_type": "code",
   "execution_count": null,
   "metadata": {
    "colab": {
     "base_uri": "https://localhost:8080/",
     "height": 807
    },
    "id": "NLONf4Zk_Mwc",
    "outputId": "c11296c4-ffb8-461c-91b2-f3008422a4bb"
   },
   "outputs": [],
   "source": []
  },
  {
   "cell_type": "markdown",
   "metadata": {
    "id": "hS0V-OU4ugia"
   },
   "source": [
    "## Autocorrelation"
   ]
  },
  {
   "cell_type": "markdown",
   "metadata": {
    "id": "gL7o-LN1HOBp"
   },
   "source": [
    "Autocorrelation measures the linear relationship between lagged values of a time series.\n",
    "\n",
    "The autocorrelation function (ACF) is used to see how the correlations change depending on the lag."
   ]
  },
  {
   "cell_type": "code",
   "execution_count": null,
   "metadata": {
    "colab": {
     "base_uri": "https://localhost:8080/",
     "height": 807
    },
    "id": "QGGdF0DI0KOO",
    "outputId": "204e23cd-0301-4894-ac3c-930291ac821a"
   },
   "outputs": [],
   "source": []
  },
  {
   "cell_type": "markdown",
   "metadata": {
    "id": "r9baUjssgqKV"
   },
   "source": [
    "## Time Series Transformations"
   ]
  },
  {
   "cell_type": "markdown",
   "metadata": {
    "id": "VE83l7P_I4H7"
   },
   "source": [
    "If the data shows variation that increases or decreases with the level of the series, then a transformation can be useful. In general, making the size of the seasonal variation about the same across the whole series makes the forecasting model simpler."
   ]
  },
  {
   "cell_type": "markdown",
   "metadata": {
    "id": "eKooy263iSiA"
   },
   "source": [
    "### Logarithmic Transformation"
   ]
  },
  {
   "cell_type": "code",
   "execution_count": null,
   "metadata": {
    "colab": {
     "base_uri": "https://localhost:8080/",
     "height": 642
    },
    "id": "i_06BEtngvHW",
    "outputId": "28cca938-b24e-4804-8014-1be371db1757"
   },
   "outputs": [],
   "source": []
  },
  {
   "cell_type": "markdown",
   "metadata": {
    "id": "rOXTOcFZiWxX"
   },
   "source": [
    "### Moving Averages"
   ]
  },
  {
   "cell_type": "markdown",
   "metadata": {
    "id": "9Vfq7oZdKv8d"
   },
   "source": [
    "A moving average of order $m$ is an estimate of the trend-cycle at time $t$, obtained by averaging values of the time series within $k$ periods of $t$, where $k = (m - 1) / 2$. E.g. a 3-MA averages the middle observation, one observation before and one after. Averaging eliminates some of the randomness in the data, leaving a smoother time series."
   ]
  },
  {
   "cell_type": "code",
   "execution_count": null,
   "metadata": {
    "colab": {
     "base_uri": "https://localhost:8080/",
     "height": 599
    },
    "id": "6i9l6v5riQga",
    "outputId": "4fc4b024-bd08-4ba0-c0ee-3db47b04510a"
   },
   "outputs": [],
   "source": []
  },
  {
   "cell_type": "markdown",
   "metadata": {
    "id": "nFZ-NEUT_d5Y"
   },
   "source": [
    "## Time Series Decomposition"
   ]
  },
  {
   "cell_type": "markdown",
   "metadata": {
    "id": "dB7XW4tPqDie"
   },
   "source": [
    "Assuming an additive decomposition, a time series can be written as $Y = S + T + R$, where $Y$ is the data, $S$ is the seasonal component, $T$ is the trend-cycle component, and $R$ is the remainder component. Assuming a multiplicative decomposition, we could write $Y = S * T * R$.\n",
    "\n",
    "An additive decomposition is appropriate if the magnitude of seasonal/trend-cycle variations does not vary with the level of the time series. When the variations are proportional to the level of the time series, then a multiplicative decomposition is more suitable."
   ]
  },
  {
   "cell_type": "code",
   "execution_count": null,
   "metadata": {
    "colab": {
     "base_uri": "https://localhost:8080/",
     "height": 807
    },
    "id": "3DeAKAk4_dfc",
    "outputId": "cfe6b6b8-adb2-49b8-a3ff-6418bc4b571c"
   },
   "outputs": [],
   "source": []
  },
  {
   "cell_type": "markdown",
   "metadata": {
    "id": "iEuZ_JsL3Ufl"
   },
   "source": [
    "## Forecasting"
   ]
  },
  {
   "cell_type": "markdown",
   "metadata": {
    "id": "oJ7qhQ-C9gjp"
   },
   "source": [
    "### Naive Methods"
   ]
  },
  {
   "cell_type": "markdown",
   "metadata": {
    "id": "JBQioLSK47yQ"
   },
   "source": []
  },
  {
   "cell_type": "markdown",
   "metadata": {
    "id": "rT73cXoW9kvs"
   },
   "source": [
    "### Exponential smoothing"
   ]
  },
  {
   "cell_type": "code",
   "execution_count": null,
   "metadata": {
    "colab": {
     "base_uri": "https://localhost:8080/",
     "height": 1000
    },
    "id": "HJbMVD0F9kcL",
    "outputId": "fc79954b-fe5d-4c9d-eef3-1da65f76728d"
   },
   "outputs": [],
   "source": []
  },
  {
   "cell_type": "markdown",
   "metadata": {
    "id": "R6bem475OJnF"
   },
   "source": [
    "### ARIMA"
   ]
  },
  {
   "cell_type": "markdown",
   "metadata": {
    "id": "mDjuU8moFUtf"
   },
   "source": []
  }
 ],
 "metadata": {
  "colab": {
   "provenance": []
  },
  "kernelspec": {
   "display_name": "Python 3 (ipykernel)",
   "language": "python",
   "name": "python3"
  },
  "language_info": {
   "codemirror_mode": {
    "name": "ipython",
    "version": 3
   },
   "file_extension": ".py",
   "mimetype": "text/x-python",
   "name": "python",
   "nbconvert_exporter": "python",
   "pygments_lexer": "ipython3",
   "version": "3.12.2"
  }
 },
 "nbformat": 4,
 "nbformat_minor": 4
}
