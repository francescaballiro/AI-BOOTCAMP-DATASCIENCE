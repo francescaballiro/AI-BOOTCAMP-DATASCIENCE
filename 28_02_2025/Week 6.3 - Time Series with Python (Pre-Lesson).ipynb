{
 "cells": [
  {
   "cell_type": "code",
   "execution_count": 1,
   "metadata": {},
   "outputs": [
    {
     "name": "stdout",
     "output_type": "stream",
     "text": [
      "Requirement already satisfied: numpy==2.2.3 in c:\\users\\franc\\pycharmprojects\\datascience\\.venv\\lib\\site-packages (2.2.3)\n",
      "Requirement already satisfied: pandas==2.2.3 in c:\\users\\franc\\pycharmprojects\\datascience\\.venv\\lib\\site-packages (2.2.3)\n",
      "Requirement already satisfied: matplotlib==3.10.0 in c:\\users\\franc\\pycharmprojects\\datascience\\.venv\\lib\\site-packages (3.10.0)\n",
      "Requirement already satisfied: statsmodels==0.14.4 in c:\\users\\franc\\pycharmprojects\\datascience\\.venv\\lib\\site-packages (0.14.4)\n",
      "Requirement already satisfied: python-dateutil>=2.8.2 in c:\\users\\franc\\pycharmprojects\\datascience\\.venv\\lib\\site-packages (from pandas==2.2.3) (2.9.0.post0)\n",
      "Requirement already satisfied: pytz>=2020.1 in c:\\users\\franc\\pycharmprojects\\datascience\\.venv\\lib\\site-packages (from pandas==2.2.3) (2025.1)\n",
      "Requirement already satisfied: tzdata>=2022.7 in c:\\users\\franc\\pycharmprojects\\datascience\\.venv\\lib\\site-packages (from pandas==2.2.3) (2025.1)\n",
      "Requirement already satisfied: contourpy>=1.0.1 in c:\\users\\franc\\pycharmprojects\\datascience\\.venv\\lib\\site-packages (from matplotlib==3.10.0) (1.3.1)\n",
      "Requirement already satisfied: cycler>=0.10 in c:\\users\\franc\\pycharmprojects\\datascience\\.venv\\lib\\site-packages (from matplotlib==3.10.0) (0.12.1)\n",
      "Requirement already satisfied: fonttools>=4.22.0 in c:\\users\\franc\\pycharmprojects\\datascience\\.venv\\lib\\site-packages (from matplotlib==3.10.0) (4.56.0)\n",
      "Requirement already satisfied: kiwisolver>=1.3.1 in c:\\users\\franc\\pycharmprojects\\datascience\\.venv\\lib\\site-packages (from matplotlib==3.10.0) (1.4.8)\n",
      "Requirement already satisfied: packaging>=20.0 in c:\\users\\franc\\pycharmprojects\\datascience\\.venv\\lib\\site-packages (from matplotlib==3.10.0) (24.2)\n",
      "Requirement already satisfied: pillow>=8 in c:\\users\\franc\\pycharmprojects\\datascience\\.venv\\lib\\site-packages (from matplotlib==3.10.0) (11.1.0)\n",
      "Requirement already satisfied: pyparsing>=2.3.1 in c:\\users\\franc\\pycharmprojects\\datascience\\.venv\\lib\\site-packages (from matplotlib==3.10.0) (3.2.1)\n",
      "Requirement already satisfied: scipy!=1.9.2,>=1.8 in c:\\users\\franc\\pycharmprojects\\datascience\\.venv\\lib\\site-packages (from statsmodels==0.14.4) (1.15.2)\n",
      "Requirement already satisfied: patsy>=0.5.6 in c:\\users\\franc\\pycharmprojects\\datascience\\.venv\\lib\\site-packages (from statsmodels==0.14.4) (1.0.1)\n",
      "Requirement already satisfied: six>=1.5 in c:\\users\\franc\\pycharmprojects\\datascience\\.venv\\lib\\site-packages (from python-dateutil>=2.8.2->pandas==2.2.3) (1.17.0)\n",
      "Note: you may need to restart the kernel to use updated packages.\n"
     ]
    }
   ],
   "source": [
    "%pip install numpy==2.2.3 pandas==2.2.3 matplotlib==3.10.0 statsmodels==0.14.4"
   ]
  },
  {
   "cell_type": "markdown",
   "metadata": {},
   "source": [
    "Una serie temporale è una sequenza di punti dati raccolti nel tempo, in genere a intervalli regolari (ad esempio, prezzi delle azioni, condizioni meteorologiche o cifre di vendita in un periodo specificato). I dati delle serie temporali sono caratterizzati dal loro ordine cronologico, che consente l'analisi di tendenze, modelli e variazioni stagionali."
   ]
  },
  {
   "cell_type": "markdown",
   "metadata": {},
   "source": [
    "in una timeseries il tempo è quello che caratterizza il dato. si misura la stessa cosa in intervalli di tempo diversi. "
   ]
  },
  {
   "cell_type": "markdown",
   "metadata": {
    "id": "N5bPb47x8Jp5"
   },
   "source": [
    "## Dates in Python"
   ]
  },
  {
   "cell_type": "markdown",
   "metadata": {},
   "source": [
    "- datetime.now() serve a calcolare la data all'inglese, questa cosa puo essere utile per calcolare la differenza tra due date\n",
    "- possiamo accedere alle varie parti delle date now.day\n",
    "- con custom_date.strftime('%d-%m-%Y') formatto la data come preferiscp\n",
    "- se ho una data scritta in formato stringa e voglio convertirla in formato data uso datetime.strptime(date_str, '%d-%m-%Y %H:%M:%S')\n",
    "- now + timedelta(days=100); now - timedelta(days=100)  con timedelta aggiungo o tolgo gli anni alla data attuale. si può usare per esempio anche con le ore ma non con i mesi perchè sono più ambigui\n",
    "- from datetime import date\n",
    "from dateutil.relativedelta import relativedelta\n",
    "date(2020, 5, 15) + relativedelta(months=5)   con questo posso gestire la questione precedente con i mesi\n",
    "- datetime.utcfromtimestamp(unix) mi dice a quale data corrisponde"
   ]
  },
  {
   "cell_type": "code",
   "execution_count": 10,
   "metadata": {
    "colab": {
     "base_uri": "https://localhost:8080/"
    },
    "id": "Xo4uGRtO734J",
    "outputId": "1064b3f9-7c9d-487a-d290-c340e7e9b948"
   },
   "outputs": [
    {
     "data": {
      "text/plain": [
       "datetime.date(2020, 10, 15)"
      ]
     },
     "execution_count": 10,
     "metadata": {},
     "output_type": "execute_result"
    }
   ],
   "source": [
    "from datetime import datetime, timedelta\n",
    "import pandas as pd\n",
    "\n",
    "now = datetime.now()\n",
    "now.day\n",
    "\n",
    "custom_date = datetime(2023, 5, 17, 15, 30, 0)\n",
    "custom_date.strftime('%d-%m-%Y')\n",
    "\n",
    "date_str = \"17-05-2023 21:15:13\"\n",
    "datetime.strptime(date_str, '%d-%m-%Y %H:%M:%S')\n",
    "\n",
    "now + timedelta(days=100)\n",
    "now - timedelta(days=100)\n",
    "\n",
    "from datetime import date\n",
    "from dateutil.relativedelta import relativedelta\n",
    "date(2020, 5, 15) + relativedelta(months=5)\n",
    "\n",
    "unix = 17030299383\n",
    "datetime.utcfromtimestamp(unix)"
   ]
  },
  {
   "cell_type": "markdown",
   "metadata": {
    "id": "INo0zXeveAFQ"
   },
   "source": [
    "## Time Series in pandas"
   ]
  },
  {
   "cell_type": "markdown",
   "metadata": {},
   "source": [
    "si può usare pandas per fare alcune cose che abbiamo visto\n",
    "- pd.date_range(start=\"2024-01-01\", end(\"2024-12-31\", freq=\"D\") bisogna specificare la frequenza perchè pandas di default prende il giorno\n",
    "- invece di specificare la fine può essere più comodo specificare il periodo\n",
    "- pandas ha un altro type oltre timestamp che è il period"
   ]
  },
  {
   "cell_type": "code",
   "execution_count": 14,
   "metadata": {
    "colab": {
     "base_uri": "https://localhost:8080/"
    },
    "id": "6ugjz5XaeCWd",
    "outputId": "c599b00d-9c68-4220-b888-98cf927705f6"
   },
   "outputs": [
    {
     "data": {
      "text/plain": [
       "DatetimeIndex(['2024-01-31', '2024-02-29', '2024-03-31', '2024-04-30',\n",
       "               '2024-05-31', '2024-06-30', '2024-07-31', '2024-08-31',\n",
       "               '2024-09-30', '2024-10-31', '2024-11-30', '2024-12-31'],\n",
       "              dtype='datetime64[ns]', freq='ME')"
      ]
     },
     "execution_count": 14,
     "metadata": {},
     "output_type": "execute_result"
    }
   ],
   "source": [
    "pd.Timestamp(\"2024-02-11\")\n",
    "\n",
    "pd.Timestamp.now(tz=\"UTC\")\n",
    "\n",
    "pd.date_range(start=\"2024-01-01\", end=\"2024-12-31\", freq=\"ME\")\n",
    "\n",
    "pd.date_range(start=\"2024-01-01\", periods=12, freq=\"ME\")\n",
    "\n",
    "date_range = pd.date_range(start=\"2024-01-01\", end=\"2024-12-31\", freq=\"ME\")\n",
    "date_range.to_period('M').to_timestamp('M')\n"
   ]
  },
  {
   "cell_type": "markdown",
   "metadata": {},
   "source": [
    "possiamo convertire la colonna data formattata come str in una colonna data formattata come data pd.to_datetime(df[\"date_str\"])"
   ]
  },
  {
   "cell_type": "code",
   "execution_count": 22,
   "metadata": {
    "colab": {
     "base_uri": "https://localhost:8080/"
    },
    "id": "zNE8E1euAjne",
    "outputId": "b1cb1656-5954-44f0-940b-888e13933ac2"
   },
   "outputs": [
    {
     "data": {
      "text/plain": [
       "0      0\n",
       "1    165\n",
       "2    364\n",
       "Name: date, dtype: int64"
      ]
     },
     "execution_count": 22,
     "metadata": {},
     "output_type": "execute_result"
    }
   ],
   "source": [
    "data = {\"date_str\": ['2023-01-01', '2023-06-15', '2023-12-31']}\n",
    "df = pd.DataFrame(data)\n",
    "\n",
    "df['date'] = pd.to_datetime(df[\"date_str\"])\n",
    "\n",
    "df['date_utc'] =df['date'].dt.tz_localize(\"UTC\") \n",
    "df['date_ny'] =df['date_utc'].dt.tz_convert(\"America/New_York\") \n",
    "\n",
    "df[(df['date'] >= \"2023-01-01\") & (df['date'] < \"2023-06-30\")]\n",
    "\n",
    "df[\"year\"] = df['date'].dt.year\n",
    "\n",
    "(df[\"date\"] - df[\"date\"].min()).dt.days"
   ]
  },
  {
   "cell_type": "code",
   "execution_count": null,
   "metadata": {
    "colab": {
     "base_uri": "https://localhost:8080/"
    },
    "id": "M2YHuNbEBg-p",
    "outputId": "54340138-9478-4929-c3b0-25a3407c13cf"
   },
   "outputs": [],
   "source": []
  },
  {
   "cell_type": "markdown",
   "metadata": {
    "id": "PYsg7RbS_P6Y"
   },
   "source": [
    "## Time Series Components"
   ]
  },
  {
   "cell_type": "markdown",
   "metadata": {
    "id": "MfgRUVdOGKp7"
   },
   "source": [
    "The **level** is the baseline component that is present in any time series. Plotted without other components, it would be a straight line. \n",
    "\n",
    "A **trend** represents a long-term increase or decrease in the data.\n",
    "\n",
    "A **seasonality** denotes that a time series is affected by one or more seasonal factors of a fixed and known period, such as the time of the year.\n",
    "\n",
    "A **cycle** occurs when there are rises and falls in the data that are not of a fixed frequency and lasts multiple years, usually due to economic conditions.\n",
    "\n",
    "The **error** component is the residual unexplainable component that \"remains\" after accounting for the other components."
   ]
  },
  {
   "cell_type": "code",
   "execution_count": null,
   "metadata": {
    "colab": {
     "base_uri": "https://localhost:8080/",
     "height": 807
    },
    "id": "NLONf4Zk_Mwc",
    "outputId": "c11296c4-ffb8-461c-91b2-f3008422a4bb"
   },
   "outputs": [],
   "source": []
  },
  {
   "cell_type": "markdown",
   "metadata": {
    "id": "hS0V-OU4ugia"
   },
   "source": [
    "## Autocorrelation"
   ]
  },
  {
   "cell_type": "markdown",
   "metadata": {
    "id": "gL7o-LN1HOBp"
   },
   "source": [
    "Autocorrelation measures the linear relationship between lagged values of a time series.\n",
    "\n",
    "The autocorrelation function (ACF) is used to see how the correlations change depending on the lag."
   ]
  },
  {
   "cell_type": "code",
   "execution_count": null,
   "metadata": {
    "colab": {
     "base_uri": "https://localhost:8080/",
     "height": 807
    },
    "id": "QGGdF0DI0KOO",
    "outputId": "204e23cd-0301-4894-ac3c-930291ac821a"
   },
   "outputs": [],
   "source": []
  },
  {
   "cell_type": "markdown",
   "metadata": {
    "id": "r9baUjssgqKV"
   },
   "source": [
    "## Time Series Transformations"
   ]
  },
  {
   "cell_type": "markdown",
   "metadata": {
    "id": "VE83l7P_I4H7"
   },
   "source": [
    "If the data shows variation that increases or decreases with the level of the series, then a transformation can be useful. In general, making the size of the seasonal variation about the same across the whole series makes the forecasting model simpler."
   ]
  },
  {
   "cell_type": "markdown",
   "metadata": {
    "id": "eKooy263iSiA"
   },
   "source": [
    "### Logarithmic Transformation"
   ]
  },
  {
   "cell_type": "code",
   "execution_count": null,
   "metadata": {
    "colab": {
     "base_uri": "https://localhost:8080/",
     "height": 642
    },
    "id": "i_06BEtngvHW",
    "outputId": "28cca938-b24e-4804-8014-1be371db1757"
   },
   "outputs": [],
   "source": []
  },
  {
   "cell_type": "markdown",
   "metadata": {
    "id": "rOXTOcFZiWxX"
   },
   "source": [
    "### Moving Averages"
   ]
  },
  {
   "cell_type": "markdown",
   "metadata": {
    "id": "9Vfq7oZdKv8d"
   },
   "source": [
    "A moving average of order $m$ is an estimate of the trend-cycle at time $t$, obtained by averaging values of the time series within $k$ periods of $t$, where $k = (m - 1) / 2$. E.g. a 3-MA averages the middle observation, one observation before and one after. Averaging eliminates some of the randomness in the data, leaving a smoother time series."
   ]
  },
  {
   "cell_type": "code",
   "execution_count": null,
   "metadata": {
    "colab": {
     "base_uri": "https://localhost:8080/",
     "height": 599
    },
    "id": "6i9l6v5riQga",
    "outputId": "4fc4b024-bd08-4ba0-c0ee-3db47b04510a"
   },
   "outputs": [],
   "source": []
  },
  {
   "cell_type": "markdown",
   "metadata": {
    "id": "nFZ-NEUT_d5Y"
   },
   "source": [
    "## Time Series Decomposition"
   ]
  },
  {
   "cell_type": "markdown",
   "metadata": {
    "id": "dB7XW4tPqDie"
   },
   "source": [
    "Assuming an additive decomposition, a time series can be written as $Y = S + T + R$, where $Y$ is the data, $S$ is the seasonal component, $T$ is the trend-cycle component, and $R$ is the remainder component. Assuming a multiplicative decomposition, we could write $Y = S * T * R$.\n",
    "\n",
    "An additive decomposition is appropriate if the magnitude of seasonal/trend-cycle variations does not vary with the level of the time series. When the variations are proportional to the level of the time series, then a multiplicative decomposition is more suitable."
   ]
  },
  {
   "cell_type": "code",
   "execution_count": null,
   "metadata": {
    "colab": {
     "base_uri": "https://localhost:8080/",
     "height": 807
    },
    "id": "3DeAKAk4_dfc",
    "outputId": "cfe6b6b8-adb2-49b8-a3ff-6418bc4b571c"
   },
   "outputs": [],
   "source": []
  },
  {
   "cell_type": "markdown",
   "metadata": {
    "id": "iEuZ_JsL3Ufl"
   },
   "source": [
    "## Forecasting"
   ]
  },
  {
   "cell_type": "markdown",
   "metadata": {
    "id": "oJ7qhQ-C9gjp"
   },
   "source": [
    "### Naive Methods"
   ]
  },
  {
   "cell_type": "markdown",
   "metadata": {
    "id": "JBQioLSK47yQ"
   },
   "source": []
  },
  {
   "cell_type": "markdown",
   "metadata": {
    "id": "rT73cXoW9kvs"
   },
   "source": [
    "### Exponential smoothing"
   ]
  },
  {
   "cell_type": "code",
   "execution_count": null,
   "metadata": {
    "colab": {
     "base_uri": "https://localhost:8080/",
     "height": 1000
    },
    "id": "HJbMVD0F9kcL",
    "outputId": "fc79954b-fe5d-4c9d-eef3-1da65f76728d"
   },
   "outputs": [],
   "source": []
  },
  {
   "cell_type": "markdown",
   "metadata": {
    "id": "R6bem475OJnF"
   },
   "source": [
    "### ARIMA"
   ]
  },
  {
   "cell_type": "markdown",
   "metadata": {
    "id": "mDjuU8moFUtf"
   },
   "source": []
  }
 ],
 "metadata": {
  "colab": {
   "provenance": []
  },
  "kernelspec": {
   "display_name": "Python 3 (ipykernel)",
   "language": "python",
   "name": "python3"
  },
  "language_info": {
   "codemirror_mode": {
    "name": "ipython",
    "version": 3
   },
   "file_extension": ".py",
   "mimetype": "text/x-python",
   "name": "python",
   "nbconvert_exporter": "python",
   "pygments_lexer": "ipython3",
   "version": "3.13.1"
  }
 },
 "nbformat": 4,
 "nbformat_minor": 4
}
