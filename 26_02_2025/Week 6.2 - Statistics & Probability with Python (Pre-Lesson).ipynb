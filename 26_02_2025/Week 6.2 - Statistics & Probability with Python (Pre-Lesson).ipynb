{
 "cells": [
  {
   "cell_type": "code",
   "execution_count": 1,
   "metadata": {},
   "outputs": [
    {
     "name": "stdout",
     "output_type": "stream",
     "text": [
      "Requirement already satisfied: numpy==2.2.3 in c:\\users\\franc\\pycharmprojects\\datascience\\.venv\\lib\\site-packages (2.2.3)\n",
      "Requirement already satisfied: pandas==2.2.3 in c:\\users\\franc\\pycharmprojects\\datascience\\.venv\\lib\\site-packages (2.2.3)\n",
      "Requirement already satisfied: matplotlib==3.10.0 in c:\\users\\franc\\pycharmprojects\\datascience\\.venv\\lib\\site-packages (3.10.0)\n",
      "Requirement already satisfied: seaborn==0.13.2 in c:\\users\\franc\\pycharmprojects\\datascience\\.venv\\lib\\site-packages (0.13.2)\n",
      "Requirement already satisfied: scipy==1.15.2 in c:\\users\\franc\\pycharmprojects\\datascience\\.venv\\lib\\site-packages (1.15.2)\n",
      "Requirement already satisfied: statsmodels==0.14.4 in c:\\users\\franc\\pycharmprojects\\datascience\\.venv\\lib\\site-packages (0.14.4)\n",
      "Requirement already satisfied: python-dateutil>=2.8.2 in c:\\users\\franc\\pycharmprojects\\datascience\\.venv\\lib\\site-packages (from pandas==2.2.3) (2.9.0.post0)\n",
      "Requirement already satisfied: pytz>=2020.1 in c:\\users\\franc\\pycharmprojects\\datascience\\.venv\\lib\\site-packages (from pandas==2.2.3) (2025.1)\n",
      "Requirement already satisfied: tzdata>=2022.7 in c:\\users\\franc\\pycharmprojects\\datascience\\.venv\\lib\\site-packages (from pandas==2.2.3) (2025.1)\n",
      "Requirement already satisfied: contourpy>=1.0.1 in c:\\users\\franc\\pycharmprojects\\datascience\\.venv\\lib\\site-packages (from matplotlib==3.10.0) (1.3.1)\n",
      "Requirement already satisfied: cycler>=0.10 in c:\\users\\franc\\pycharmprojects\\datascience\\.venv\\lib\\site-packages (from matplotlib==3.10.0) (0.12.1)\n",
      "Requirement already satisfied: fonttools>=4.22.0 in c:\\users\\franc\\pycharmprojects\\datascience\\.venv\\lib\\site-packages (from matplotlib==3.10.0) (4.56.0)\n",
      "Requirement already satisfied: kiwisolver>=1.3.1 in c:\\users\\franc\\pycharmprojects\\datascience\\.venv\\lib\\site-packages (from matplotlib==3.10.0) (1.4.8)\n",
      "Requirement already satisfied: packaging>=20.0 in c:\\users\\franc\\pycharmprojects\\datascience\\.venv\\lib\\site-packages (from matplotlib==3.10.0) (24.2)\n",
      "Requirement already satisfied: pillow>=8 in c:\\users\\franc\\pycharmprojects\\datascience\\.venv\\lib\\site-packages (from matplotlib==3.10.0) (11.1.0)\n",
      "Requirement already satisfied: pyparsing>=2.3.1 in c:\\users\\franc\\pycharmprojects\\datascience\\.venv\\lib\\site-packages (from matplotlib==3.10.0) (3.2.1)\n",
      "Requirement already satisfied: patsy>=0.5.6 in c:\\users\\franc\\pycharmprojects\\datascience\\.venv\\lib\\site-packages (from statsmodels==0.14.4) (1.0.1)\n",
      "Requirement already satisfied: six>=1.5 in c:\\users\\franc\\pycharmprojects\\datascience\\.venv\\lib\\site-packages (from python-dateutil>=2.8.2->pandas==2.2.3) (1.17.0)\n",
      "Note: you may need to restart the kernel to use updated packages.\n"
     ]
    }
   ],
   "source": [
    "%pip install numpy==2.2.3 pandas==2.2.3 matplotlib==3.10.0 seaborn==0.13.2 scipy==1.15.2 statsmodels==0.14.4"
   ]
  },
  {
   "cell_type": "code",
   "execution_count": 2,
   "metadata": {},
   "outputs": [],
   "source": [
    "import numpy as np\n",
    "import pandas as pd\n",
    "import matplotlib.pyplot as plt\n",
    "import seaborn as sns"
   ]
  },
  {
   "cell_type": "markdown",
   "metadata": {
    "id": "aL7GieePuIq_"
   },
   "source": [
    "**Statistics** plays a crucial role in machine learning by providing the theoretical foundation and practical tools necessary for building robust and efficient models. It can also help in the preprocessing steps in machine learning, like gaining a better understanding of the data or feature engineering\n",
    "\n",
    "svolge un ruolo cruciale nell'apprendimento automatico, fornendo le basi teoriche e gli strumenti pratici necessari per costruire modelli robusti ed efficienti. Può anche aiutare nelle fasi di pre-elaborazione nell'apprendimento automatico, come ottenere una migliore comprensione dei dati o dell'ingegneria delle feature\n",
    "\n",
    "**Probability** can help in understanding and quantifying the uncertainty associated with the predictions of a machine learning model.\n",
    "\n",
    "può aiutare a comprendere e quantificare l'incertezza associata alle previsioni di un modello di apprendimento automatico."
   ]
  },
  {
   "cell_type": "markdown",
   "metadata": {
    "id": "upzJhEU6W5fQ"
   },
   "source": [
    "# Descriptive Statistics\n",
    "\n",
    "\n",
    "\n",
    "\n",
    "\n",
    "\n"
   ]
  },
  {
   "cell_type": "markdown",
   "metadata": {
    "id": "FDecz9sEsuup"
   },
   "source": [
    "Le statistiche descrittive aiutano a riassumere e organizzare i dati in modo che possano essere facilmente compresi. Queste statistiche ci consentono di analizzare le distribuzioni dei dati e di identificare le caratteristiche chiave dei dati."
   ]
  },
  {
   "cell_type": "code",
   "execution_count": 3,
   "metadata": {
    "colab": {
     "base_uri": "https://localhost:8080/"
    },
    "id": "Ifix2N2qtCJp",
    "outputId": "346530a9-2bcb-4936-ae62-59a54a818029"
   },
   "outputs": [
    {
     "data": {
      "text/html": [
       "<div>\n",
       "<style scoped>\n",
       "    .dataframe tbody tr th:only-of-type {\n",
       "        vertical-align: middle;\n",
       "    }\n",
       "\n",
       "    .dataframe tbody tr th {\n",
       "        vertical-align: top;\n",
       "    }\n",
       "\n",
       "    .dataframe thead th {\n",
       "        text-align: right;\n",
       "    }\n",
       "</style>\n",
       "<table border=\"1\" class=\"dataframe\">\n",
       "  <thead>\n",
       "    <tr style=\"text-align: right;\">\n",
       "      <th></th>\n",
       "      <th>Age</th>\n",
       "      <th>Salary</th>\n",
       "      <th>Hours_Worked_Per_Week</th>\n",
       "      <th>Years_of_Experience</th>\n",
       "    </tr>\n",
       "  </thead>\n",
       "  <tbody>\n",
       "    <tr>\n",
       "      <th>0</th>\n",
       "      <td>56</td>\n",
       "      <td>25903.305196</td>\n",
       "      <td>56</td>\n",
       "      <td>2.325089</td>\n",
       "    </tr>\n",
       "    <tr>\n",
       "      <th>1</th>\n",
       "      <td>69</td>\n",
       "      <td>53051.954538</td>\n",
       "      <td>23</td>\n",
       "      <td>7.712978</td>\n",
       "    </tr>\n",
       "    <tr>\n",
       "      <th>2</th>\n",
       "      <td>46</td>\n",
       "      <td>38654.738821</td>\n",
       "      <td>23</td>\n",
       "      <td>0.886359</td>\n",
       "    </tr>\n",
       "    <tr>\n",
       "      <th>3</th>\n",
       "      <td>32</td>\n",
       "      <td>28666.194356</td>\n",
       "      <td>39</td>\n",
       "      <td>1.522041</td>\n",
       "    </tr>\n",
       "    <tr>\n",
       "      <th>4</th>\n",
       "      <td>60</td>\n",
       "      <td>40301.406736</td>\n",
       "      <td>29</td>\n",
       "      <td>2.528741</td>\n",
       "    </tr>\n",
       "  </tbody>\n",
       "</table>\n",
       "</div>"
      ],
      "text/plain": [
       "   Age        Salary  Hours_Worked_Per_Week  Years_of_Experience\n",
       "0   56  25903.305196                     56             2.325089\n",
       "1   69  53051.954538                     23             7.712978\n",
       "2   46  38654.738821                     23             0.886359\n",
       "3   32  28666.194356                     39             1.522041\n",
       "4   60  40301.406736                     29             2.528741"
      ]
     },
     "execution_count": 3,
     "metadata": {},
     "output_type": "execute_result"
    }
   ],
   "source": [
    "np.random.seed(42)\n",
    "\n",
    "n = 1000\n",
    "\n",
    "data = {\n",
    "    'Age': np.random.randint(18, 70, n),\n",
    "    'Salary': np.abs(np.random.normal(50000, 15000, n)),\n",
    "    'Hours_Worked_Per_Week': np.random.randint(20, 60, n),\n",
    "    'Years_of_Experience': np.random.lognormal(mean=1, sigma=0.7, size=n)\n",
    "}\n",
    "\n",
    "df = pd.DataFrame(data)\n",
    "\n",
    "df.head()"
   ]
  },
  {
   "cell_type": "markdown",
   "metadata": {
    "id": "DRXyrwxcmgTl"
   },
   "source": [
    "## Measures of central tendency"
   ]
  },
  {
   "cell_type": "markdown",
   "metadata": {
    "id": "XSEepecIvHI2"
   },
   "source": [
    "Queste misure descrivono il valore centrale o tipico di un set di dati: media, mediana, moda...\n",
    "\n",
    "-MEDIANA se ordiniamo i valori dal più piccolo al maggiore la mediana è il valore che sta in mezzo, se il numero di valori è pari si prendono i due valori in mezzo e si fanno in mezzo\n",
    "\n",
    "-trim_mean media troncata che esclude i valori estremi, la media è molto sensibile agli outliers"
   ]
  },
  {
   "cell_type": "code",
   "execution_count": 4,
   "metadata": {},
   "outputs": [
    {
     "name": "stdout",
     "output_type": "stream",
     "text": [
      "Mean Salary: 50863.622304299795\n",
      "Median Salary: 50807.53098571996\n"
     ]
    },
    {
     "data": {
      "text/plain": [
       "np.int32(43)"
      ]
     },
     "execution_count": 4,
     "metadata": {},
     "output_type": "execute_result"
    }
   ],
   "source": [
    "print(\"Mean Salary:\", df['Salary'].mean().item())\n",
    "print(\"Median Salary:\", df['Salary'].median())\n",
    "df['Age'].mode()[0]"
   ]
  },
  {
   "cell_type": "code",
   "execution_count": 5,
   "metadata": {},
   "outputs": [
    {
     "data": {
      "text/plain": [
       "np.float64(50788.51369800581)"
      ]
     },
     "execution_count": 5,
     "metadata": {},
     "output_type": "execute_result"
    }
   ],
   "source": [
    "from scipy.stats import trim_mean\n",
    "trim_mean(df['Salary'], 0.1)"
   ]
  },
  {
   "cell_type": "code",
   "execution_count": 6,
   "metadata": {},
   "outputs": [
    {
     "name": "stdout",
     "output_type": "stream",
     "text": [
      "Mean Salary with outliers: 58875.73390408674\n",
      "Median Salary with outliers: 51170.02623472782\n"
     ]
    }
   ],
   "source": [
    "df['Salary_With_Outliers'] =  df['Salary']\n",
    "n_outliers = 20\n",
    "df.loc[np.random.choice(df.index, n_outliers), 'Salary_With_Outliers'] *= 10\n",
    "\n",
    "print(\"Mean Salary with outliers:\", df['Salary_With_Outliers'].mean().item())\n",
    "print(\"Median Salary with outliers:\", df['Salary_With_Outliers'].median())"
   ]
  },
  {
   "cell_type": "markdown",
   "metadata": {
    "id": "nuQs2gKsvRcx"
   },
   "source": [
    "## Measures of dispersion"
   ]
  },
  {
   "cell_type": "markdown",
   "metadata": {},
   "source": [
    "identificano quanto la distribuzione è ampia o stretta"
   ]
  },
  {
   "cell_type": "markdown",
   "metadata": {
    "id": "X7Rl5vqSFi2p"
   },
   "source": [
    "These measures describe how spread out the data is: range, variance, standard deviation, quantiles, interquantile range..."
   ]
  },
  {
   "cell_type": "markdown",
   "metadata": {
    "id": "GE_1_n3DvVsU"
   },
   "source": [
    "The **variance** measures how far each data point in a dataset is from the mean. It is defined as:\n",
    "\n",
    "$$\n",
    "\\sigma^2 = \\frac{1}{N} \\sum_{i=1}^{N} (x_i - \\bar{x})^2\n",
    "$$\n",
    "\n",
    "where:\n",
    "- $x_i$ are the individual data points,\n",
    "- $\\bar{x}$ is the mean of the data points,\n",
    "- $N$ is the total number of data points in the population,\n",
    "\n",
    "The **standard deviation** is the square root of the variance. It is useful because it is expressed in the same units as the original data, making it easier to interpret."
   ]
  },
  {
   "cell_type": "markdown",
   "metadata": {},
   "source": [
    "Nella cella sotto sto calcolando\n",
    "- Differenza massimo-minimo: Ampiezza dei salari.\n",
    "- Varianza: Misura della dispersione dei salari rispetto alla media.\n",
    "- Deviazione standard: Una misura di dispersione che ha le stesse unità dei dati e rende più facile l'interpretazione rispetto alla varianza."
   ]
  },
  {
   "cell_type": "code",
   "execution_count": 7,
   "metadata": {},
   "outputs": [
    {
     "data": {
      "text/plain": [
       "np.float64(14823.245521256558)"
      ]
     },
     "execution_count": 7,
     "metadata": {},
     "output_type": "execute_result"
    }
   ],
   "source": [
    "df['Salary'].max() - df['Salary'].min()\n",
    "df['Salary'].var()\n",
    "df['Salary'].std()"
   ]
  },
  {
   "cell_type": "markdown",
   "metadata": {
    "id": "rGSdu6rHFg-C"
   },
   "source": [
    "**I quantili** dividono una distribuzione di probabilità in intervalli continui con probabilità uguali. C'è un quantile in meno rispetto al numero di gruppi creati. I quantili comuni hanno nomi speciali, come quartili (quattro gruppi), decili (dieci gruppi) e percentili (100 gruppi).\n",
    "\n",
    "un caso particolare di un quantile è il valore mediano"
   ]
  },
  {
   "cell_type": "code",
   "execution_count": 8,
   "metadata": {},
   "outputs": [
    {
     "data": {
      "image/png": "[encoded data removed]",
      "text/plain": [
       "<Figure size 800x500 with 1 Axes>"
      ]
     },
     "metadata": {},
     "output_type": "display_data"
    }
   ],
   "source": [
    "q1 = df['Salary'].quantile(0.25)\n",
    "q3 = df['Salary'].quantile(0.75)\n",
    "\n",
    "iqr = q3 - q1\n",
    "\n",
    "plt.figure(figsize=(8,5))\n",
    "sns.boxplot(x=df['Salary'], color='orange')\n",
    "plt.title('Box Plot of Salary')\n",
    "plt.show()"
   ]
  },
  {
   "cell_type": "code",
   "execution_count": 9,
   "metadata": {},
   "outputs": [
    {
     "data": {
      "text/html": [
       "<div>\n",
       "<style scoped>\n",
       "    .dataframe tbody tr th:only-of-type {\n",
       "        vertical-align: middle;\n",
       "    }\n",
       "\n",
       "    .dataframe tbody tr th {\n",
       "        vertical-align: top;\n",
       "    }\n",
       "\n",
       "    .dataframe thead th {\n",
       "        text-align: right;\n",
       "    }\n",
       "</style>\n",
       "<table border=\"1\" class=\"dataframe\">\n",
       "  <thead>\n",
       "    <tr style=\"text-align: right;\">\n",
       "      <th></th>\n",
       "      <th>Age</th>\n",
       "      <th>Salary</th>\n",
       "      <th>Hours_Worked_Per_Week</th>\n",
       "      <th>Years_of_Experience</th>\n",
       "      <th>Salary_With_Outliers</th>\n",
       "    </tr>\n",
       "  </thead>\n",
       "  <tbody>\n",
       "    <tr>\n",
       "      <th>164</th>\n",
       "      <td>54</td>\n",
       "      <td>9546.700356</td>\n",
       "      <td>20</td>\n",
       "      <td>3.951732</td>\n",
       "      <td>9546.700356</td>\n",
       "    </tr>\n",
       "    <tr>\n",
       "      <th>186</th>\n",
       "      <td>37</td>\n",
       "      <td>10235.452874</td>\n",
       "      <td>45</td>\n",
       "      <td>2.212721</td>\n",
       "      <td>10235.452874</td>\n",
       "    </tr>\n",
       "    <tr>\n",
       "      <th>273</th>\n",
       "      <td>50</td>\n",
       "      <td>89485.730973</td>\n",
       "      <td>54</td>\n",
       "      <td>3.450132</td>\n",
       "      <td>89485.730973</td>\n",
       "    </tr>\n",
       "    <tr>\n",
       "      <th>579</th>\n",
       "      <td>68</td>\n",
       "      <td>7271.860691</td>\n",
       "      <td>55</td>\n",
       "      <td>7.668832</td>\n",
       "      <td>7271.860691</td>\n",
       "    </tr>\n",
       "    <tr>\n",
       "      <th>619</th>\n",
       "      <td>54</td>\n",
       "      <td>6556.169327</td>\n",
       "      <td>25</td>\n",
       "      <td>1.746992</td>\n",
       "      <td>6556.169327</td>\n",
       "    </tr>\n",
       "    <tr>\n",
       "      <th>873</th>\n",
       "      <td>32</td>\n",
       "      <td>11134.365618</td>\n",
       "      <td>56</td>\n",
       "      <td>0.374371</td>\n",
       "      <td>11134.365618</td>\n",
       "    </tr>\n",
       "  </tbody>\n",
       "</table>\n",
       "</div>"
      ],
      "text/plain": [
       "     Age        Salary  Hours_Worked_Per_Week  Years_of_Experience  \\\n",
       "164   54   9546.700356                     20             3.951732   \n",
       "186   37  10235.452874                     45             2.212721   \n",
       "273   50  89485.730973                     54             3.450132   \n",
       "579   68   7271.860691                     55             7.668832   \n",
       "619   54   6556.169327                     25             1.746992   \n",
       "873   32  11134.365618                     56             0.374371   \n",
       "\n",
       "     Salary_With_Outliers  \n",
       "164           9546.700356  \n",
       "186          10235.452874  \n",
       "273          89485.730973  \n",
       "579           7271.860691  \n",
       "619           6556.169327  \n",
       "873          11134.365618  "
      ]
     },
     "execution_count": 9,
     "metadata": {},
     "output_type": "execute_result"
    }
   ],
   "source": [
    "lower_bound = q1 - 1.5 * iqr\n",
    "upper_bound = q3 + 1.5 * iqr\n",
    "outliers = df[(df['Salary'] < lower_bound) | (df['Salary'] > upper_bound)]\n",
    "outliers"
   ]
  },
  {
   "cell_type": "markdown",
   "metadata": {
    "id": "517b_uCVF0SC"
   },
   "source": [
    "The *z-score*  is the number of standard deviations by which the value of a data point is above or below the mean value. It is calculated by subtracting the mean from an individual observation and then dividing the difference by the standard deviation:\n",
    "\n",
    "$$\n",
    "Z = \\frac{x - \\mu}{\\sigma}\n",
    "$$\n",
    "\n",
    "The process of converting a raw score into a standard score is called standardizing: it is a type of normalization that works well when the data is normally distributed."
   ]
  },
  {
   "cell_type": "markdown",
   "metadata": {},
   "source": [
    "Lo z-score è il numero di deviazioni standard per cui il valore di un punto dati è al di sopra o al di sotto del valore medio. Si calcola sottraendo la media da una singola osservazione e poi dividendo la differenza per la deviazione standard\n",
    "\n",
    "Il processo di conversione di un punteggio grezzo in un punteggio standard è detto standardizzazione: è un tipo di normalizzazione che funziona bene quando i dati sono distribuiti normalmente."
   ]
  },
  {
   "cell_type": "code",
   "execution_count": 10,
   "metadata": {},
   "outputs": [],
   "source": [
    "from scipy.stats import zscore\n",
    "df['Salary_Z'] = zscore(df['Salary'])\n",
    "df[['Salary', 'Salary_Z']]\n",
    "\n",
    "df ['Salary_Standardzied'] = (df['Salary'] - df['Salary'].mean()) / df['Salary'].std()"
   ]
  },
  {
   "cell_type": "markdown",
   "metadata": {},
   "source": [
    "le normalizzazioni si fanno perchè per alcuni modelli statistici sono necessarie. se immaginiamo di avere un dataset con colonne misurate con scale diverse ci sono modelli per cui questa cosa è un problema quindi normalizzare le colonne per averle sulla stessa scala è un modo per evitare di ingannare i modelli "
   ]
  },
  {
   "cell_type": "markdown",
   "metadata": {
    "id": "FQQMA11svDgK"
   },
   "source": [
    "## Frequency Distributions"
   ]
  },
  {
   "cell_type": "markdown",
   "metadata": {},
   "source": [
    "Una distribuzione di frequenza è una rappresentazione statistica che mostra quante volte ciascun valore (o intervallo di valori) appare in un dataset. In altre parole, descrive come i dati sono distribuiti in un determinato intervallo o gruppo, indicandone la frequenza di occorrenza."
   ]
  },
  {
   "cell_type": "code",
   "execution_count": 11,
   "metadata": {
    "colab": {
     "base_uri": "https://localhost:8080/"
    },
    "id": "nsMWccdDqVjE",
    "outputId": "60e7f301-fb74-4272-e0a7-7160963e1dfe"
   },
   "outputs": [
    {
     "data": {
      "text/html": [
       "<div>\n",
       "<style scoped>\n",
       "    .dataframe tbody tr th:only-of-type {\n",
       "        vertical-align: middle;\n",
       "    }\n",
       "\n",
       "    .dataframe tbody tr th {\n",
       "        vertical-align: top;\n",
       "    }\n",
       "\n",
       "    .dataframe thead th {\n",
       "        text-align: right;\n",
       "    }\n",
       "</style>\n",
       "<table border=\"1\" class=\"dataframe\">\n",
       "  <thead>\n",
       "    <tr style=\"text-align: right;\">\n",
       "      <th></th>\n",
       "      <th>Hours_Worked_Per_Week</th>\n",
       "      <th>count</th>\n",
       "    </tr>\n",
       "  </thead>\n",
       "  <tbody>\n",
       "    <tr>\n",
       "      <th>0</th>\n",
       "      <td>20</td>\n",
       "      <td>21</td>\n",
       "    </tr>\n",
       "    <tr>\n",
       "      <th>1</th>\n",
       "      <td>21</td>\n",
       "      <td>20</td>\n",
       "    </tr>\n",
       "    <tr>\n",
       "      <th>2</th>\n",
       "      <td>22</td>\n",
       "      <td>25</td>\n",
       "    </tr>\n",
       "    <tr>\n",
       "      <th>3</th>\n",
       "      <td>23</td>\n",
       "      <td>31</td>\n",
       "    </tr>\n",
       "    <tr>\n",
       "      <th>4</th>\n",
       "      <td>24</td>\n",
       "      <td>19</td>\n",
       "    </tr>\n",
       "    <tr>\n",
       "      <th>5</th>\n",
       "      <td>25</td>\n",
       "      <td>26</td>\n",
       "    </tr>\n",
       "    <tr>\n",
       "      <th>6</th>\n",
       "      <td>26</td>\n",
       "      <td>18</td>\n",
       "    </tr>\n",
       "    <tr>\n",
       "      <th>7</th>\n",
       "      <td>27</td>\n",
       "      <td>27</td>\n",
       "    </tr>\n",
       "    <tr>\n",
       "      <th>8</th>\n",
       "      <td>28</td>\n",
       "      <td>26</td>\n",
       "    </tr>\n",
       "    <tr>\n",
       "      <th>9</th>\n",
       "      <td>29</td>\n",
       "      <td>19</td>\n",
       "    </tr>\n",
       "    <tr>\n",
       "      <th>10</th>\n",
       "      <td>30</td>\n",
       "      <td>28</td>\n",
       "    </tr>\n",
       "    <tr>\n",
       "      <th>11</th>\n",
       "      <td>31</td>\n",
       "      <td>28</td>\n",
       "    </tr>\n",
       "    <tr>\n",
       "      <th>12</th>\n",
       "      <td>32</td>\n",
       "      <td>24</td>\n",
       "    </tr>\n",
       "    <tr>\n",
       "      <th>13</th>\n",
       "      <td>33</td>\n",
       "      <td>23</td>\n",
       "    </tr>\n",
       "    <tr>\n",
       "      <th>14</th>\n",
       "      <td>34</td>\n",
       "      <td>19</td>\n",
       "    </tr>\n",
       "    <tr>\n",
       "      <th>15</th>\n",
       "      <td>35</td>\n",
       "      <td>18</td>\n",
       "    </tr>\n",
       "    <tr>\n",
       "      <th>16</th>\n",
       "      <td>36</td>\n",
       "      <td>30</td>\n",
       "    </tr>\n",
       "    <tr>\n",
       "      <th>17</th>\n",
       "      <td>37</td>\n",
       "      <td>25</td>\n",
       "    </tr>\n",
       "    <tr>\n",
       "      <th>18</th>\n",
       "      <td>38</td>\n",
       "      <td>31</td>\n",
       "    </tr>\n",
       "    <tr>\n",
       "      <th>19</th>\n",
       "      <td>39</td>\n",
       "      <td>26</td>\n",
       "    </tr>\n",
       "    <tr>\n",
       "      <th>20</th>\n",
       "      <td>40</td>\n",
       "      <td>35</td>\n",
       "    </tr>\n",
       "    <tr>\n",
       "      <th>21</th>\n",
       "      <td>41</td>\n",
       "      <td>26</td>\n",
       "    </tr>\n",
       "    <tr>\n",
       "      <th>22</th>\n",
       "      <td>42</td>\n",
       "      <td>24</td>\n",
       "    </tr>\n",
       "    <tr>\n",
       "      <th>23</th>\n",
       "      <td>43</td>\n",
       "      <td>31</td>\n",
       "    </tr>\n",
       "    <tr>\n",
       "      <th>24</th>\n",
       "      <td>44</td>\n",
       "      <td>20</td>\n",
       "    </tr>\n",
       "    <tr>\n",
       "      <th>25</th>\n",
       "      <td>45</td>\n",
       "      <td>24</td>\n",
       "    </tr>\n",
       "    <tr>\n",
       "      <th>26</th>\n",
       "      <td>46</td>\n",
       "      <td>22</td>\n",
       "    </tr>\n",
       "    <tr>\n",
       "      <th>27</th>\n",
       "      <td>47</td>\n",
       "      <td>35</td>\n",
       "    </tr>\n",
       "    <tr>\n",
       "      <th>28</th>\n",
       "      <td>48</td>\n",
       "      <td>17</td>\n",
       "    </tr>\n",
       "    <tr>\n",
       "      <th>29</th>\n",
       "      <td>49</td>\n",
       "      <td>28</td>\n",
       "    </tr>\n",
       "    <tr>\n",
       "      <th>30</th>\n",
       "      <td>50</td>\n",
       "      <td>15</td>\n",
       "    </tr>\n",
       "    <tr>\n",
       "      <th>31</th>\n",
       "      <td>51</td>\n",
       "      <td>19</td>\n",
       "    </tr>\n",
       "    <tr>\n",
       "      <th>32</th>\n",
       "      <td>52</td>\n",
       "      <td>25</td>\n",
       "    </tr>\n",
       "    <tr>\n",
       "      <th>33</th>\n",
       "      <td>53</td>\n",
       "      <td>29</td>\n",
       "    </tr>\n",
       "    <tr>\n",
       "      <th>34</th>\n",
       "      <td>54</td>\n",
       "      <td>33</td>\n",
       "    </tr>\n",
       "    <tr>\n",
       "      <th>35</th>\n",
       "      <td>55</td>\n",
       "      <td>28</td>\n",
       "    </tr>\n",
       "    <tr>\n",
       "      <th>36</th>\n",
       "      <td>56</td>\n",
       "      <td>30</td>\n",
       "    </tr>\n",
       "    <tr>\n",
       "      <th>37</th>\n",
       "      <td>57</td>\n",
       "      <td>29</td>\n",
       "    </tr>\n",
       "    <tr>\n",
       "      <th>38</th>\n",
       "      <td>58</td>\n",
       "      <td>23</td>\n",
       "    </tr>\n",
       "    <tr>\n",
       "      <th>39</th>\n",
       "      <td>59</td>\n",
       "      <td>23</td>\n",
       "    </tr>\n",
       "  </tbody>\n",
       "</table>\n",
       "</div>"
      ],
      "text/plain": [
       "    Hours_Worked_Per_Week  count\n",
       "0                      20     21\n",
       "1                      21     20\n",
       "2                      22     25\n",
       "3                      23     31\n",
       "4                      24     19\n",
       "5                      25     26\n",
       "6                      26     18\n",
       "7                      27     27\n",
       "8                      28     26\n",
       "9                      29     19\n",
       "10                     30     28\n",
       "11                     31     28\n",
       "12                     32     24\n",
       "13                     33     23\n",
       "14                     34     19\n",
       "15                     35     18\n",
       "16                     36     30\n",
       "17                     37     25\n",
       "18                     38     31\n",
       "19                     39     26\n",
       "20                     40     35\n",
       "21                     41     26\n",
       "22                     42     24\n",
       "23                     43     31\n",
       "24                     44     20\n",
       "25                     45     24\n",
       "26                     46     22\n",
       "27                     47     35\n",
       "28                     48     17\n",
       "29                     49     28\n",
       "30                     50     15\n",
       "31                     51     19\n",
       "32                     52     25\n",
       "33                     53     29\n",
       "34                     54     33\n",
       "35                     55     28\n",
       "36                     56     30\n",
       "37                     57     29\n",
       "38                     58     23\n",
       "39                     59     23"
      ]
     },
     "execution_count": 11,
     "metadata": {},
     "output_type": "execute_result"
    }
   ],
   "source": [
    "df['Hours_Worked_Per_Week'].value_counts().sort_index().reset_index()"
   ]
  },
  {
   "cell_type": "code",
   "execution_count": 12,
   "metadata": {
    "colab": {
     "base_uri": "https://localhost:8080/",
     "height": 487
    },
    "id": "bKpoO8DBqkpt",
    "outputId": "5a503c8a-78e4-492d-b4cd-b71081882f93"
   },
   "outputs": [
    {
     "data": {
      "image/png": "[encoded data removed]",
      "text/plain": [
       "<Figure size 800x500 with 1 Axes>"
      ]
     },
     "metadata": {},
     "output_type": "display_data"
    }
   ],
   "source": [
    "plt.figure(figsize=(8,5))\n",
    "sns.histplot(df['Years_of_Experience'], bins=25, kde=False, color='purple')\n",
    "plt.title('Years ogìf experience')\n",
    "plt.xlabel('Years of Experience')\n",
    "plt.ylabel('Frequency')\n",
    "plt.show()"
   ]
  },
  {
   "cell_type": "markdown",
   "metadata": {
    "id": "NagjuKboJQR7"
   },
   "source": [
    "**Skewness** measures the asymmetry of a probability distribution.\n",
    "- Negative skew: the distribution is left-skewed/left-tailed\n",
    "- Positive skew: the distribution is right-skewed/right-tailed\n",
    "\n",
    "Skewness indicates the direction and relative magnitude of a distribution's deviation from the normal distribution (this is important because many statistical methods assume a normal distribution).\n",
    "\n",
    "**Kurtosis** measures the \"tailedness\" of a probability distribution, indicating whether data has more or fewer extreme values (outliers) than a normal distribution.\n",
    "\n",
    "- If the kurtosis is positive, the distribution is *leptokurtic* (heavy tails, more extreme values).\n",
    "- If the kurtosis is negative the distribution is *platykurtic* (light tails, fewer extreme values)."
   ]
  },
  {
   "cell_type": "markdown",
   "metadata": {},
   "source": [
    "La skewness (o asimmetria) è una misura statistica che indica la asimmetria della distribuzione di un insieme di dati rispetto alla sua media. In altre parole, la skewness misura quanto i dati si discostano da una distribuzione simmetrica (come la distribuzione normale).\n",
    "\n",
    "La skewness fornisce informazioni sulla direzione e l'intensità della distorsione della distribuzione:\n",
    "\n",
    "Skewness positiva (o asimmetria a destra): Se la distribuzione è asimmetrica a destra, la code a destra della media sono più lunghe o più pesanti. In altre parole, ci sono alcuni valori estremamente alti che allungano la coda verso destra. In questo caso, la skewness avrà un valore positivo.\n",
    "\n",
    "Esempio: Un insieme di dati come i redditi, dove pochi individui guadagnano molto di più rispetto alla maggior parte, potrebbe avere una skewness positiva.\n",
    "Skewness negativa (o asimmetria a sinistra): Se la distribuzione è asimmetrica a sinistra, la coda a sinistra della media è più lunga o più pesante. In altre parole, ci sono valori estremamente bassi che allungano la coda verso sinistra. In questo caso, la skewness avrà un valore negativo.\n",
    "\n",
    "Esempio: Un insieme di dati come l'età alla pensione, dove la maggior parte delle persone si ritira a una certa età, ma alcuni si ritirano molto più presto, potrebbe avere una skewness negativa.\n",
    "Skewness nulla: Se la distribuzione è simmetrica, come la distribuzione normale, la skewness sarà 0 (o molto vicina a zero). Questo significa che la distribuzione non ha una coda più lunga da un lato rispetto all'altro.\n",
    "\n",
    "- Skewness positiva (> 0): La distribuzione è inclinata verso destra (coda lunga verso destra).\n",
    "- Skewness negativa (< 0): La distribuzione è inclinata verso sinistra (coda lunga verso sinistra).\n",
    "- Skewness = 0: La distribuzione è perfettamente simmetrica."
   ]
  },
  {
   "cell_type": "markdown",
   "metadata": {},
   "source": [
    "La kurtosis (o curtosi) è una misura statistica che descrive la forma della distribuzione dei dati, in particolare la \"pesantezza\" delle code della distribuzione rispetto a una distribuzione normale (che ha una kurtosis di 3). In altre parole, la kurtosis misura la concentrazione dei dati nelle code (valori estremi) e nel picco centrale della distribuzione.\n",
    "\n",
    "Tipi di Kurtosi\n",
    "Kurtosi Normale (Mesocurtica):\n",
    "\n",
    "Una distribuzione normale ha una kurtosis di 3, che è spesso usata come riferimento. La distribuzione ha una coda \"normale\" e una forma simmetrica. Se una distribuzione ha una kurtosi di 3, si dice che è mesocurtica.\n",
    "Kurtosi Positiva (Leptocurtica):\n",
    "\n",
    "Una distribuzione con kurtosi maggiore di 3 è chiamata leptocurtica. Le distribuzioni leptocurtiche hanno un picco più alto e stretto rispetto alla distribuzione normale, con code più pesanti (più probabilità di valori estremi). Quindi, i dati tendono ad avere più outliers o valori estremi.\n",
    "Esempio: Alcuni dati finanziari o economici, come i ritorni delle azioni, spesso hanno una kurtosi maggiore di 3.\n",
    "Kurtosi Negativa (Platicurtica):\n",
    "\n",
    "Una distribuzione con kurtosi inferiore a 3 è chiamata platicurtica. Le distribuzioni platicurtiche hanno un picco più basso e largo rispetto alla distribuzione normale, con code più leggere (meno probabilità di valori estremi).\n",
    "Esempio: Una distribuzione uniforme, dove tutti i valori hanno la stessa probabilità di verificarsi, ha una kurtosi molto bassa (vicina a 1).\n",
    "\n",
    "- Kurtosi = 3 (Mesocurtica): La distribuzione è simile a una normale (distribuzione \"normale\").\n",
    "- Kurtosi > 3 (Leptocurtica): La distribuzione ha un picco più alto e code più pesanti, con una maggiore probabilità di valori estremi.\n",
    "- Kurtosi < 3 (Platicurtica): La distribuzione ha un picco più basso e largo, con code più leggere."
   ]
  },
  {
   "cell_type": "code",
   "execution_count": 13,
   "metadata": {
    "colab": {
     "base_uri": "https://localhost:8080/"
    },
    "id": "P7Gf4bb9JPPc",
    "outputId": "9404bde8-cf7f-4b8c-e8f3-0e8052d7978d"
   },
   "outputs": [
    {
     "data": {
      "text/plain": [
       "np.float64(4.235485788845868)"
      ]
     },
     "execution_count": 13,
     "metadata": {},
     "output_type": "execute_result"
    }
   ],
   "source": [
    "df['Years_of_Experience'].skew()"
   ]
  },
  {
   "cell_type": "code",
   "execution_count": 14,
   "metadata": {
    "colab": {
     "base_uri": "https://localhost:8080/",
     "height": 487
    },
    "id": "mXwxap1dVgo_",
    "outputId": "40cb6b11-b59a-4cd5-bed7-8300c2cfcf4f"
   },
   "outputs": [
    {
     "data": {
      "text/plain": [
       "np.float64(38.81309692175205)"
      ]
     },
     "execution_count": 14,
     "metadata": {},
     "output_type": "execute_result"
    }
   ],
   "source": [
    "df['Years_of_Experience'].kurt()"
   ]
  },
  {
   "cell_type": "markdown",
   "metadata": {
    "id": "OOVuxVeZPuHD"
   },
   "source": [
    "Quando la distribuzione è asimmetrica verso destra, la trasformazione logaritmica può essere utile per renderla più simmetrica."
   ]
  },
  {
   "cell_type": "markdown",
   "metadata": {},
   "source": [
    "log1p serve a calcolare il log anche quando ci sono valori zero"
   ]
  },
  {
   "cell_type": "code",
   "execution_count": 15,
   "metadata": {},
   "outputs": [
    {
     "data": {
      "image/png": "[encoded data removed]",
      "text/plain": [
       "<Figure size 800x500 with 1 Axes>"
      ]
     },
     "metadata": {},
     "output_type": "display_data"
    }
   ],
   "source": [
    "df['Years_of_Experience_Log'] = np.log1p(df['Years_of_Experience'])\n",
    "\n",
    "#visualizing the transformarion\n",
    "plt.figure(figsize=(8,5))\n",
    "sns.histplot(df['Years_of_Experience_Log'], kde=True, label='Log Trasformation', color = 'orange')\n",
    "plt.legend()\n",
    "plt.title('Years of Experience Log Trasformated')\n",
    "plt.show()\n"
   ]
  },
  {
   "cell_type": "markdown",
   "metadata": {
    "id": "dlpFuBvFvvCr"
   },
   "source": [
    "# Introduction to Probability"
   ]
  },
  {
   "cell_type": "markdown",
   "metadata": {
    "id": "MQ0jLK_D-Zrb"
   },
   "source": [
    "Probability is a branch of mathematics that measures the likelihood or chance of an event occurring. It quantifies uncertainty and is expressed as a number between 0 and 1.\n",
    "\n",
    "Key Concepts:\n",
    "- **Experiment**: A process or action that produces outcomes, such as rolling a die or flipping a coin. Random (with more than one possible outcome, otherwise deterministic) experiments are often conducted repeatedly (ex. rolling a die 2 times), in which case the individual repetitions are called trials.\n",
    "- **Outcome**: A possible result of an experiment, e.g., rolling a 3 twice on a die.\n",
    "- **Sample Space**: The set of all possible outcomes of an experiment. For example, for rolling a six-sided die once: {1, 2, 3, 4, 5, 6}; for rolling a six-sided die twice there are 36 possible outcomes: {(1, 1), (1, 2), ...}\n",
    "- **Event**: A subset of the sample space, representing one or more outcomes. For instance, when rolling a six-sided die once, {2, 4, 6} is the event \"rolling an even number\".\n",
    "\n",
    "La probabilità è una branca della matematica che misura la probabilità o la possibilità che un evento si verifichi. Quantifica l'incertezza ed è espressa come un numero compreso tra 0 e 1.\n",
    "\n",
    "Concetti chiave:\n",
    "\n",
    "- Esperimento: un processo o un'azione che produce risultati, come lanciare un dado o una moneta. Gli esperimenti casuali (con più di un possibile risultato, altrimenti deterministici) vengono spesso condotti ripetutamente (ad esempio, lanciare un dado 2 volte), nel qual caso le singole ripetizioni sono chiamate prove.\n",
    "- Risultato: un possibile risultato di un esperimento, ad esempio, lanciare un 3 due volte su un dado.\n",
    "- Spazio campionario: l'insieme di tutti i possibili risultati di un esperimento. Ad esempio, per lanciare un dado a sei facce una volta: {1, 2, 3, 4, 5, 6}; per lanciare un dado a sei facce due volte ci sono 36 possibili risultati: {(1, 1), (1, 2), ...}\n",
    "- Evento: un sottoinsieme dello spazio campionario, che rappresenta uno o più risultati. Ad esempio, lanciando una volta un dado a sei facce, {2, 4, 6} è l'evento \"tirare un numero pari\"."
   ]
  },
  {
   "cell_type": "markdown",
   "metadata": {
    "id": "mncxsHOMA8rw"
   },
   "source": [
    "The **theoretical probability** of an event $A$ occurring is given by:  \n",
    "\n",
    "$$\n",
    "P(A) = \\frac{\\text{Number of favorable outcomes}}{\\text{Total number of possible outcomes}}\n",
    "$$\n",
    "\n",
    "The **empirical probability** is calculated from observed data in the context of real-world experimentsa and data:  \n",
    "\n",
    "$$\n",
    "P(A) = \\frac{\\text{Number of times A occurs}}{\\text{Total number of trials}}\n",
    "$$"
   ]
  },
  {
   "cell_type": "code",
   "execution_count": null,
   "metadata": {},
   "outputs": [],
   "source": []
  },
  {
   "cell_type": "markdown",
   "metadata": {},
   "source": [
    " il codice simula 100 lanci di moneta e calcola la frazione di volte che il risultato è \"Heads\". La funzione np.mean(coin_flips == 'Heads') restituirà una probabilità (compresa tra 0 e 1) che rappresenta la frequenza di \"Heads\" nei 100 lanci simulati."
   ]
  },
  {
   "cell_type": "code",
   "execution_count": 16,
   "metadata": {
    "colab": {
     "base_uri": "https://localhost:8080/"
    },
    "id": "BLMU6_zev1fh",
    "outputId": "8fa00f9d-f623-4aec-95dc-6f82bfe689c3"
   },
   "outputs": [
    {
     "data": {
      "text/plain": [
       "np.float64(0.44)"
      ]
     },
     "execution_count": 16,
     "metadata": {},
     "output_type": "execute_result"
    }
   ],
   "source": [
    "np.random.seed(42)\n",
    "coin_flips = np.random.choice(['Heads', 'Tails'], size = 100)\n",
    "\n",
    "np.mean(coin_flips == 'Heads')"
   ]
  },
  {
   "cell_type": "markdown",
   "metadata": {},
   "source": [
    "Il codice restituisce un dizionario che mappa ogni numero del dado (da 1 a 6) alla sua probabilità di apparire, calcolata come la frazione di volte che quel numero è stato lanciato.\n",
    "Ogni valore è una probabilità che riflette la frequenza di ciascun numero nei 100 lanci simulati. Queste probabilità dovrebbero essere abbastanza vicine a 1/6 (circa 0.167) se il dado è \"fair\" (giusto) e il numero di lanci è sufficientemente grande."
   ]
  },
  {
   "cell_type": "code",
   "execution_count": 17,
   "metadata": {
    "colab": {
     "base_uri": "https://localhost:8080/"
    },
    "id": "6hLNulCS5nui",
    "outputId": "2f53c005-ab4c-4183-a077-58e24963bdbf"
   },
   "outputs": [
    {
     "data": {
      "text/plain": [
       "{1: 0.17, 2: 0.15, 3: 0.16, 4: 0.2, 5: 0.18, 6: 0.14}"
      ]
     },
     "execution_count": 17,
     "metadata": {},
     "output_type": "execute_result"
    }
   ],
   "source": [
    "die_rolls = np.random.choice(range(1,7), size=100)\n",
    "{i: np.mean(die_rolls == i).item() for i in range(1,7)}"
   ]
  },
  {
   "cell_type": "markdown",
   "metadata": {
    "id": "p-9BEp5wHYH5"
   },
   "source": [
    "## Probability rules"
   ]
  },
  {
   "cell_type": "markdown",
   "metadata": {
    "id": "Bff638hDJrYx"
   },
   "source": [
    "- La probabilità di un evento è compresa tra 0 (evento impossibile) e 1 (evento certo)\n",
    "- La probabilità che un evento non si verifichi (il suo complemento) è: $$\n",
    "P(A^c) = 1 - P(A)\n",
    "$$  \n",
    "\n",
    "  Questo perché la somma di tutti i possibili risultati deve essere uguale a 1.\n",
    "\n",
    "- La probabilità che si verifichi l'evento $A$ o l'evento $B$ quindi l'unione è: $$\n",
    "P(A \\cup B) = P(A) + P(B) - P(A \\cap B)\n",
    "$$\n",
    "\n",
    "  SE $A$ e $B$ sono mutuamente esclusivi (non possono verificarsi insieme), allora:  \n",
    "\n",
    "$$\n",
    "P(A \\cup B) = P(A) + P(B)\n",
    "$$\n",
    "\n",
    "- La probabilità che si verifichino entrambi l'evento $A$ o l'evento $B$ quindi l'intersezione è: $$\n",
    "P(A \\cap B) = P(A) \\times P(B)\n",
    "$$\n",
    "\n",
    "  per **eventi indipendenti** (uno non influenza l'altro) e $$\n",
    "P(A \\cap B) = P(A) \\times P(B | A)\n",
    "$$\n",
    "  per **eventi dipendenti** (uno influenza l'altro).\n",
    "\n",
    "  Questo significa che  $P(B) = P(B | A)$ gli eventi $A$ e $B$ sono indipendenti, ovvero il verificarsi di  $B$ non influenza il verificarsi di $A$ e viceversa."
   ]
  },
  {
   "cell_type": "code",
   "execution_count": 18,
   "metadata": {
    "colab": {
     "base_uri": "https://localhost:8080/"
    },
    "id": "sT75lw8jwWQu",
    "outputId": "186f4c4e-e519-429d-8f47-28a3bfb0f303"
   },
   "outputs": [],
   "source": [
    "total_cards = 52\n",
    "red_cards = 26\n",
    "face_cards = 12\n",
    "red_and_face_cards = 6\n",
    "\n",
    "p_not_red = 1 - (red_cards / total_cards)\n",
    "\n",
    "p_red_or_face = (red_cards / total_cards) + (face_cards / total_cards)\n",
    "\n",
    "heart_cards = 13\n",
    "diamonds_cards = 13\n",
    "p_heart_or_diamonds = (heart_cards / total_cards) + (diamonds_cards / total_cards)\n",
    "\n",
    "p_two_aces = 4/52 * 3/51\n",
    "\n",
    "p_ace_two = 4/52 * 4/51\n"
   ]
  },
  {
   "cell_type": "markdown",
   "metadata": {
    "id": "MxLULJG7RaaQ"
   },
   "source": [
    "## Conditional probability"
   ]
  },
  {
   "cell_type": "markdown",
   "metadata": {
    "id": "se0UEZ7UMXBp"
   },
   "source": [
    "La **probabilità condizionata** misura la probabilità che un evento si verifichi, dato che un altro evento è già noto (per ipotesi, prove, ecc.) come verificatosi: $$P(A|B) = \\frac{P(A \\cap B)}{P(B)}$$\n",
    "\n",
    "La **Legge della probabilità totale** consente di calcolare la probavilità di un evento $A$ in base alle sue probabilità condizionali, dato un insieme di eventi reciprocamente esclusivi ed esaustivi (almeno uno deve verificarsi) $B_1, B_2, ..., B_n$.\n",
    "\n",
    "$$P(A) = P(A|B_1)P(B_1)+P(A|B_2)P(B_2)+\\cdots+P(A|B_n)P(B_n)=\\sum_{i} P(A | B_i)P(B_i)$$\n",
    "\n",
    "È particolarmente utile quando il calcolo diretto della probabilità di un evento è difficile.\n",
    "\n",
    "**Il teorema di Bayes** è una formula matematica utilizzata per aggiornare la probabilità di un evento in base a nuove prove. Ci consente di calcolare le probabilità condizionali:\n",
    "\n",
    "$$P(A|B)=\\frac{P(B|A)\\cdot P(A)}{P(B)}$$\n",
    "\n",
    "\n",
    "\n",
    "\n",
    "\n"
   ]
  },
  {
   "cell_type": "markdown",
   "metadata": {},
   "source": [
    "La **probabilità condizionata** è un concetto fondamentale in probabilità che si usa quando vogliamo calcolare la probabilità di un evento, ma con la conoscenza che un altro evento si è già verificato. In altre parole, la probabilità condizionata ci dice quanto è probabile che un evento si verifichi, dato che un altro evento è già accaduto.\n",
    "\n",
    "Formula della probabilità condizionata\n",
    "La probabilità condizionata di un evento \n",
    "𝐴\n",
    ", dato che è già accaduto un evento \n",
    "𝐵\n",
    ", è denotata come \n",
    "𝑃\n",
    "(\n",
    "𝐴\n",
    "∣\n",
    "𝐵\n",
    ")\n",
    " e si calcola con la seguente formula:\n",
    "\n",
    "$$P(A|B) = \\frac{P(A \\cap B)}{P(B)}$$\n",
    " \n",
    "Dove:\n",
    "\n",
    "𝑃\n",
    "(\n",
    "𝐴\n",
    "∣\n",
    "𝐵\n",
    ")\n",
    " è la probabilità che accada l'evento \n",
    "𝐴\n",
    ", dato che \n",
    "𝐵\n",
    " è accaduto.\n",
    "𝑃\n",
    "(\n",
    "𝐴\n",
    "∩\n",
    "𝐵\n",
    ")\n",
    "P(A∩B) è la probabilità che accadano entrambi gli eventi \n",
    "𝐴\n",
    " e \n",
    "𝐵\n",
    "Bcontemporaneamente (probabilità dell'intersezione di \n",
    "𝐴\n",
    " e \n",
    "𝐵\n",
    ").\n",
    "𝑃\n",
    "(\n",
    "𝐵\n",
    ")\n",
    " è la probabilità che accada l'evento \n",
    "𝐵\n",
    " (probabilità di \n",
    "𝐵\n",
    ").\n",
    "Interpretazione\n",
    "Numeratore: La probabilità che accadano entrambi gli eventi \n",
    "𝐴\n",
    " e \n",
    "𝐵\n",
    ", ovvero la probabilità che si verifichino contemporaneamente.\n",
    "Denominatore: La probabilità che accada l'evento \n",
    "𝐵\n",
    ", cioè l'evento che sappiamo già si è verificato."
   ]
  },
  {
   "cell_type": "markdown",
   "metadata": {},
   "source": [
    "La **Legge della probabilità totale** è un concetto fondamentale nella teoria delle probabilità che permette di calcolare la probabilità di un evento, suddividendo il problema in più \"scenari\" o \"partizioni\" che coprono tutto lo spazio campionario. Questa legge è particolarmente utile quando l'evento che stiamo cercando di analizzare può essere suddiviso in diverse situazioni più semplici, che sono mutuamente esclusive e collettivamente esaurienti.\n",
    "\n",
    "In altre parole, la Legge della probabilità totale dice che la probabilità di un evento \n",
    "\n",
    "A può essere calcolata sommando le probabilità condizionate di \n",
    "\n",
    "A in ciascuna delle partizioni \n",
    "\n",
    "B \n",
    "i\n",
    "​\n",
    " , pesate per la probabilità di ciascun \n",
    "\n",
    "B \n",
    "i\n",
    "​\n",
    " .\n",
    "\n",
    "**Intuizione della Legge della probabilità totale**\n",
    "Immagina che tu voglia calcolare la probabilità che accada un certo evento \n",
    "𝐴\n",
    ", ma non puoi calcolarlo direttamente, magari perché l'evento dipende da diverse situazioni. La Legge della probabilità totale ti permette di \"scomporre\" l'evento in più scenari \n",
    "𝐵\n",
    "1\n",
    ",\n",
    "𝐵\n",
    "2\n",
    ",\n",
    "…\n",
    ",\n",
    "𝐵\n",
    "𝑛\n",
    "B \n",
    "1\n",
    "​\n",
    " ,B \n",
    "2\n",
    "​\n",
    " ,…,B \n",
    "n\n",
    "​\n",
    " , ognuno dei quali è un evento che copre un caso specifico. Poi, per ciascun scenario, calcoli la probabilità condizionata di \n",
    "𝐴\n",
    "A dato che si verifica quello scenario, e la moltiplichi per la probabilità che quello scenario accada. Sommi poi tutti questi contributi."
   ]
  },
  {
   "cell_type": "markdown",
   "metadata": {},
   "source": [
    "Ora calcolo la probavbilità che piova dato che c'è traffico. "
   ]
  },
  {
   "cell_type": "code",
   "execution_count": 19,
   "metadata": {
    "colab": {
     "base_uri": "https://localhost:8080/"
    },
    "id": "Lnau13bnwuDf",
    "outputId": "9d7a9a5b-a11d-4bce-8fda-c28330fd6e42"
   },
   "outputs": [],
   "source": [
    "p_rain = 0.3 #probabilità di pioggia\n",
    "p_traffic = 0.4 #probabilità di traffico\n",
    "p_traffic_give_rain = 0.7 #probabilità di traffico dato che piove\n",
    "\n",
    "p_rain_and_traffic = p_rain * p_traffic_give_rain #probabilità congiunta: probabilità che entrambi gli eventi accadano (che piova e che ci sia traffico)\n",
    "p_rain_given_traffic = p_rain_and_traffic / p_traffic  #probabilità condizionato: probabilità che piova dato che c'è traffico"
   ]
  },
  {
   "cell_type": "code",
   "execution_count": 20,
   "metadata": {},
   "outputs": [
    {
     "data": {
      "text/plain": [
       "0.6785714285714285"
      ]
     },
     "execution_count": 20,
     "metadata": {},
     "output_type": "execute_result"
    }
   ],
   "source": [
    "p_disease = 0.1 #La probabilità di avere la malattia (prima di fare il test)\n",
    "p_positive_given_desease = 0.95 #La probabilità di ottenere un test positivo dato che hai la malattia (sensibilità del test)\n",
    "p_positive_given_no_disease = 0.05 #La probabilità di ottenere un test positivo dato che non hai la malattia (falsi positivi).\n",
    "\n",
    "# pdisease_given_positive?\n",
    "\n",
    "#Questa probabilità è la somma delle probabilità che si ottenga un test positivo sia quando si ha la malattia che quando non la si ha\n",
    "p_positive = (p_positive_given_desease * p_disease) + (p_positive_given_no_disease * (1-p_disease))\n",
    "\n",
    "#Usiamo il teorema di Bayes per calcolare la probabilità condizionata\n",
    "p_disease_given_positive = (p_positive_given_desease*p_disease) / p_positive\n",
    "p_disease_given_positive"
   ]
  },
  {
   "cell_type": "code",
   "execution_count": null,
   "metadata": {},
   "outputs": [],
   "source": []
  },
  {
   "cell_type": "markdown",
   "metadata": {
    "id": "bWCadetRzULk"
   },
   "source": [
    "# Probability Distributions"
   ]
  },
  {
   "cell_type": "markdown",
   "metadata": {
    "id": "DoO7qBQ4Z70c"
   },
   "source": [
    "Una distribuzione di probabilità è la funzione matematica che descrive le probabilità di accadimento di possibili risultati di un esperimento.\n",
    "\n",
    "Una **distribuzione di probabilità discreta** è applicabile a scenari in cui l'insieme di possibili risultati è discreto (ad esempio il lancio di una moneta, il lancio di un dado); in questo caso la distribuzione di probabilità discreta è nota come funzione di massa di probabilità. D'altro canto, le ***distribuzioni di probabilità continue** sono applicabili a scenari in cui l'insieme di possibili risultati può assumere valori in un intervallo continuo (ad esempio numeri reali), come la temperatura in un dato giorno. Nel caso continuo, le probabilità sono descritte da una funzione di densità di probabilità e la distribuzione di probabilità è per definizione l'integrale della funzione di densità di probabilità.\n",
    "\n",
    "Il **valore atteso** è un concetto nella teoria della probabilità e nella statistica che rappresenta il risultato medio di una variabile casuale, ponderato dalla probabilità di tali risultati. Pertanto, è una media ponderata di tutti i possibili risultati."
   ]
  },
  {
   "cell_type": "markdown",
   "metadata": {},
   "source": [
    "**Distribuzione di probabilità discreta**:\n",
    "\n",
    "- Gli eventi possibili sono finiti o numerabili.\n",
    "- La probabilità di ogni evento è un numero compreso tra 0 e 1.\n",
    "- Il valore atteso è la media ponderata dei valori possibili.\n",
    "\n",
    "**Distribuzione di probabilità continua**:\n",
    "\n",
    "- Gli eventi possibili formano un intervallo continuo.\n",
    "- La probabilità di un singolo valore è zero, ma possiamo calcolare la probabilità di un intervallo di valori.\n",
    "- Il valore atteso è calcolato come l'integrale della funzione di densità di probabilità.\n",
    "\n",
    "**Valore atteso**:\n",
    "\n",
    "- È la media ponderata dei valori possibili per una variabile casuale.\n",
    "- Per le variabili discrete, si calcola come somma dei valori moltiplicati per le loro probabilità.\n",
    "- Per le variabili continue, si calcola tramite un'integrazione della funzione di densità."
   ]
  },
  {
   "cell_type": "markdown",
   "metadata": {
    "id": "1220lN4OaJv2"
   },
   "source": [
    "### DISTRIBUZIONE DI BERNOULLI\n",
    "La distribuzione di Bernoulli è una delle distribuzioni di probabilità più semplici e fondamentali nella teoria delle probabilità e statistica. È utilizzata per modellare esperimenti che hanno solo due possibili risultati: successo o fallimento.\n",
    "\n",
    "CARATTERISTICHE PRINCIPALI\n",
    "- Un esperimento di Bernoulli è un esperimento binario, cioè può risultare in uno di due esiti: successo (ad esempio \"test positivo\", \"testa\" su una moneta, \"vince\" in una gara) o fallimento (ad esempio \"test negativo\", \"croce\" su una moneta, \"perde\" in una gara).\n",
    "- La distribuzione di Bernoulli è descritta da un parametro \n",
    "𝑝\n",
    "p, che rappresenta la probabilità di successo (ovvero la probabilità che si verifichi l'esito di successo). La probabilità di fallimento sarà quindi \n",
    "1\n",
    "−\n",
    "𝑝\n",
    "1−p.\n",
    "\n",
    "ASPETTI IMPORTANTI\n",
    "- Valori possibili: \n",
    "X può solo assumere i valori 0 o 1 (fallimento o successo).\n",
    "- Media (o aspettativa): La media di una distribuzione di Bernoulli è E(X)=p. Quindi, se si ripete l'esperimento molte volte, la probabilità media di ottenere un successo è p.\n",
    "- Varianza: La varianza di una distribuzione di Bernoulli è Var(X)=p(1−p). Questo misura la dispersione dei valori attorno alla media.\n"
   ]
  },
  {
   "cell_type": "code",
   "execution_count": 21,
   "metadata": {
    "colab": {
     "base_uri": "https://localhost:8080/",
     "height": 524
    },
    "id": "xq8wY5pwgBQE",
    "outputId": "0ed1abcd-c45c-4608-aa84-16cd1c90b98d"
   },
   "outputs": [
    {
     "data": {
      "image/png": "[encoded data removed]",
      "text/plain": [
       "<Figure size 640x480 with 1 Axes>"
      ]
     },
     "metadata": {},
     "output_type": "display_data"
    },
    {
     "name": "stdout",
     "output_type": "stream",
     "text": [
      "\n",
      "Expected value: 0.17\n",
      "Variance: 0.14\n"
     ]
    }
   ],
   "source": [
    "n = 1\n",
    "p = 1/6 # success is rolling '3'\n",
    "\n",
    "experiment_repetitions = 1000\n",
    "bernoulli_trials = np.random.binomial(n, p, size=experiment_repetitions)\n",
    "\n",
    "expected_value = p\n",
    "variance = p * (1-p)\n",
    "\n",
    "# Visualizing the distribution\n",
    "unique, counts = np.unique(bernoulli_trials, return_counts=True)\n",
    "plt.bar(unique, counts/np.sum(counts), color=['blue', 'orange'])\n",
    "plt.xticks([0, 1], ['0 (Failure)', '1 (Success)'])\n",
    "plt.title(f\"Bernoulli Distribution (p = {p:.4f})\")\n",
    "plt.xlabel(\"k\")\n",
    "plt.ylabel(\"P(X=k)\")\n",
    "plt.show()\n",
    "\n",
    "print(f\"\\nExpected value: {expected_value:.2f}\")\n",
    "print(f\"Variance: {variance:.2f}\")"
   ]
  },
  {
   "cell_type": "markdown",
   "metadata": {
    "id": "VcS0WNL-dPdz"
   },
   "source": [
    "### DISTRIBUZIONE BINOMIALE\n",
    "La distribuzione binomiale è una distribuzione di probabilità discreta che descrive il numero di successi in una sequenza di esperimenti di Bernoulli indipendenti e identici. È uno dei concetti fondamentali della teoria delle probabilità e viene utilizzata quando si ripete un esperimento con due esiti possibili (successo o fallimento) per un numero definito di volte.\n",
    "\n",
    "CARATTERISTICHE PRINCIPALI\n",
    "- Numero di esperimenti (n): La distribuzione binomiale riguarda esperimenti ripetuti un numero fisso di volte. Ogni esperimento ha due risultati possibili: successo o fallimento.\n",
    "- Probabilità di successo (p): Ogni esperimento ha una probabilità di successo p (e una probabilità di fallimento 1−p).\n",
    "- Indipendenza degli esperimenti: Ogni esperimento è indipendente dagli altri. Il risultato di un esperimento non influisce sugli altri esperimenti.\n",
    "- Variabile casuale: La variabile casuale X che segue una distribuzione binomiale rappresenta il numero di successi che si verificano nei n esperimenti.\n",
    "\n",
    "PARAMETRI DELLA DISTRIBUZIONE\n",
    "- Media (o aspettativa): La media della distribuzione binomiale è la probabilità attesa di successi in n esperimenti. Si calcola come:   E(X)=n*p\n",
    "- Varianza: La varianza misura quanto i risultati di X sono dispersi attorno alla media. La varianza della distribuzione binomiale è:   Var(X) = n*p*(1-p)\n",
    "- Deviazione standard: La deviazione standard è la radice quadrata della varianza ed è una misura della dispersione dei risultati\n",
    "\n",
    "La distribuzione binomiale è utile quando si desidera calcolare la probabilità di un certo numero di successi in un numero fisso di esperimenti indipendenti, dove ogni esperimento ha solo due esiti possibili. È caratterizzata da due parametri principali: il numero di esperimenti n e la probabilità di successo p in ogni singolo esperimento. La distribuzione binomiale viene applicata in molti ambiti, come sondaggi, analisi di qualità, giochi di probabilità e altro."
   ]
  },
  {
   "cell_type": "code",
   "execution_count": 22,
   "metadata": {
    "colab": {
     "base_uri": "https://localhost:8080/",
     "height": 524
    },
    "id": "1eUMXp5hgKJi",
    "outputId": "1dc7f1ab-2334-43d6-a1af-34e7feb8cb57"
   },
   "outputs": [
    {
     "data": {
      "image/png": "[encoded data removed]",
      "text/plain": [
       "<Figure size 640x480 with 1 Axes>"
      ]
     },
     "metadata": {},
     "output_type": "display_data"
    },
    {
     "name": "stdout",
     "output_type": "stream",
     "text": [
      "\n",
      "Expected value: 1.67\n",
      "Variance: 1.39\n"
     ]
    }
   ],
   "source": [
    "n = 10\n",
    "p = 1/6 # success is rolling '3'\n",
    "\n",
    "experiment_repetitions = 1000\n",
    "binomial_experiments = np.random.binomial(n, p, size=experiment_repetitions)\n",
    "\n",
    "expected_value = n * p\n",
    "variance = n * p * (1-p)\n",
    "\n",
    "# Visualizing the distribution\n",
    "plt.hist(binomial_experiments, bins=range(0, n+2), density=True, align='left', color='green', alpha=0.7, edgecolor='black')\n",
    "plt.title(f\"Binomial Distribution (n = {n}, p = {p:.4f})\")\n",
    "plt.xlabel(\"k (Number of successes)\")\n",
    "plt.ylabel(\"P(X=k)\")\n",
    "plt.show()\n",
    "\n",
    "print(f\"\\nExpected value: {expected_value:.2f}\")\n",
    "print(f\"Variance: {variance:.2f}\")"
   ]
  },
  {
   "cell_type": "markdown",
   "metadata": {
    "id": "FhOuEED9ebFF"
   },
   "source": [
    "### DISTRIBUZIONE DI POISSON\n",
    "La distribuzione di Poisson è una distribuzione di probabilità discreta che descrive il numero di eventi che si verificano in un intervallo di tempo o spazio, dato che gli eventi si verificano con una certa frequenza media costante e in modo indipendente tra loro. È spesso utilizzata per modellare fenomeni come il numero di chiamate che riceve una centrale telefonica in un'ora, il numero di auto che passano attraverso un casello autostradale in un giorno, o il numero di incidenti stradali in un mese.\n",
    "\n",
    "CARATTERISTICHE PRINCIPALI\n",
    "- La distribuzione di Poisson è definita da un parametro λ (lambda), che rappresenta la frequenza media degli eventi per unità di tempo o spazio. Ad esempio, se λ=3, significa che ci aspettiamo in media 3 eventi in un dato intervallo di tempo (o spazio)\n",
    "- Gli eventi sono indipendenti tra loro, cioè la probabilità che un evento si verifichi in un dato intervallo non dipende dal numero di eventi che si sono verificati in intervalli precedenti.\n",
    "- La distribuzione di Poisson è particolarmente utile quando il numero di eventi che possono verificarsi in un dato intervallo è grande e il tasso medio di eventi λ è relativamente piccolo.\n",
    "\n",
    "PARAMETRI DELLA DISTRIBUZIONE\n",
    "- Media: La media di una variabile casuale **X** che segue una distribuzione di Poisson è **E(X)=λ**. Questo significa che, in media, ci si aspetta che si verifichino λ eventi nell'intervallo osservato\n",
    "- Varianza: La varianza della distribuzione di Poisson è anch'essa pari a λ, ovvero **Var(X)=λ**. Questo implica che la dispersione intotno alla media è uguale al tasso medio di eventi.\n",
    "- Indipendenza. gli eventi sono considerati indipendenti, il che significa che il verificarsi di un evento non influisce sul verificarsi di un altro\n",
    "\n",
    "SOMMARIO\n",
    "La distribuzione di Poisson è utile per modellare il numero di eventi che si verificano in un intervallo di tempo o spazio, quando gli eventi sono rari, indipendenti e avvengono con una frequenza media costante. È completamente definita dal parametro λ, che rappresenta la frequenza media degli eventi, ed è applicata in vari ambiti come telecomunicazioni, scienze sociali, ingegneria e fisica."
   ]
  },
  {
   "cell_type": "markdown",
   "metadata": {},
   "source": [
    "distribuzione usata quando si hanno dei valori di conteggio"
   ]
  },
  {
   "cell_type": "code",
   "execution_count": 23,
   "metadata": {
    "colab": {
     "base_uri": "https://localhost:8080/",
     "height": 524
    },
    "id": "ZC41ZHlxgRLw",
    "outputId": "7c90f6fc-7793-4baf-dcb8-5dae35e3b5c6"
   },
   "outputs": [
    {
     "data": {
      "image/png": "[encoded data removed]",
      "text/plain": [
       "<Figure size 640x480 with 1 Axes>"
      ]
     },
     "metadata": {},
     "output_type": "display_data"
    },
    {
     "name": "stdout",
     "output_type": "stream",
     "text": [
      "\n",
      "Expected value: 40.00\n",
      "Variance: 40.00\n"
     ]
    }
   ],
   "source": [
    "lambda_ = 40\n",
    "\n",
    "experiment_repetitions = 1000\n",
    "poisson_experiments = np.random.poisson(lambda_, size=experiment_repetitions)\n",
    "\n",
    "expected_value = lambda_\n",
    "variance = lambda_\n",
    "\n",
    "plt.hist(poisson_experiments, density=True, color='purple', alpha=0.7, edgecolor='black')\n",
    "plt.title(f\"Poisson Distribution (λ = {lambda_})\")\n",
    "plt.xlabel(\"k (Number of calls in an hour)\")\n",
    "plt.ylabel(\"P(X=k)\")\n",
    "plt.show()\n",
    "\n",
    "print(f\"\\nExpected value: {expected_value:.2f}\")\n",
    "print(f\"Variance: {variance:.2f}\")"
   ]
  },
  {
   "cell_type": "markdown",
   "metadata": {
    "id": "8d-E_kFLSftD"
   },
   "source": [
    "### DISTRIBUZIONE DISCRETA UNIFORME\n",
    "La distribuzione uniforme discreta è una distribuzione di probabilità discreta in cui tutti gli esiti di un esperimento hanno la stessa probabilità di verificarsi. È uno dei modelli più semplici per descrivere variabili casuali discrete. Nella distribuzione uniforme discreta, ogni risultato in un insieme di valori possibili ha la stessa probabilità di essere scelto.\n",
    "\n",
    "CARATTERISTICHE PRINCIPALI\n",
    "- L'insieme dei valori possibili per la variabile casuale X è finito e contiene n possibili risultati possibili\n",
    "- Ogni valore nell'insieme ha la stessa probabilità di essere osservato.\n",
    "\n",
    "PARAMETRI DELLA DISTRIBUZIONE\n",
    "- MEDIA(ASPETTATIVA): La media di una distribuzione uniforme discreta è il valore atteso di X **E(X==(a+b)/2**\n",
    "- VARIANZA: La varianza misura quanto i risultati si discostano dalla media\n",
    "  \n",
    "\n",
    "### DISTRIBUZIONE CONTINUA UNIFORME\n",
    "La distribuzione continua uniforme è un tipo di distribuzione di probabilità in cui ogni intervallo di valori, all'interno di un certo intervallo di numeri, ha la stessa probabilità di essere scelto.\n",
    "In altre parole, in una distribuzione uniforme continua, ogni valore all'interno di un determinato intervallo [a,b] ha la stessa probabilità di essere osservato. La funzione di densità di probabilità (PDF) è costante all'interno di questo intervallo.\n",
    "\n",
    "CARATTERISTICHE PRINCIPALI\n",
    "- Intervallo di definizione: La distribuzione uniforme continua è definita su un intervallo [a,b] dove a è il valore minimo e b il valore massimo. qui a≤x≤b.\n",
    "- Funzione di densità di probabilità (PDF): La funzione di densità di probabilità della distribuzione uniforme continua è data da:\n",
    "**f(x)=1/(b-a)** , per a≤x≤b\n",
    "fuori da questo intervallo, la probavilità è zero (cioè **f(x)=0** , per x<a o x>b)\n",
    "- La MEDIA (μ) della distribuzione uniforme continua è:  ** μ = (a+b)/2 **\n",
    "- La varianza (σ^2) è: **σ^2=[(b-a)^2]/12**\n",
    "- Proprietà: La probabilità che un valore x si trovi all'interno di un intervallo [x1, x2] all'interno di [a, b] può essere calcolata come la lunghezza dell'intervallo [a, b]. cioè:\n",
    " **P(x1 < X < x2) = (x1 - x2)/ (b - a)** con x1<x2 e a<x1, x2<b\n",
    "\n",
    "\n"
   ]
  },
  {
   "cell_type": "code",
   "execution_count": 24,
   "metadata": {
    "colab": {
     "base_uri": "https://localhost:8080/",
     "height": 524
    },
    "id": "QtB3eD9EgsIZ",
    "outputId": "fbd6559a-db10-4a4e-97ec-4021ef6935bd"
   },
   "outputs": [
    {
     "data": {
      "image/png": "[encoded data removed]",
      "text/plain": [
       "<Figure size 640x480 with 1 Axes>"
      ]
     },
     "metadata": {},
     "output_type": "display_data"
    }
   ],
   "source": [
    "a, b = 0, 1\n",
    "\n",
    "n_values = 1000\n",
    "uniform_values = np.random.uniform(low=a, high=b, size=n_values)\n",
    "\n",
    "expected_value = (a + b) / 2\n",
    "\n",
    "plt.hist(uniform_values, bins=30, density=True, color='teal', alpha=0.7, edgecolor='black')\n",
    "plt.title(f\"Uniform Distribution (a = {a}, b = {b})\")\n",
    "plt.xlabel(\"x\")\n",
    "plt.ylabel(\"P(x)\")\n",
    "plt.show()"
   ]
  },
  {
   "cell_type": "markdown",
   "metadata": {
    "id": "sJSIAlHeXnl1"
   },
   "source": [
    "The **exponential** distribution is the continuous probability distribution of the distance between events in a Poisson process, i.e. events that occur continuously and independently at a constant average rate (the rate is the probability per unit time)."
   ]
  },
  {
   "cell_type": "code",
   "execution_count": 25,
   "metadata": {
    "colab": {
     "base_uri": "https://localhost:8080/",
     "height": 524
    },
    "id": "T1XojepJX6Dd",
    "outputId": "27f04b98-b44b-44bf-ec48-0ffc4f3dce0d"
   },
   "outputs": [
    {
     "data": {
      "image/png": "[encoded data removed]",
      "text/plain": [
       "<Figure size 640x480 with 1 Axes>"
      ]
     },
     "metadata": {},
     "output_type": "display_data"
    }
   ],
   "source": [
    "lambda_ = 4 # rate\n",
    "n_values = 1000\n",
    "\n",
    "exponential_values = np.random.exponential(scale=1/lambda_, size=n_values)\n",
    "\n",
    "expected_value = 1/lambda_\n",
    "\n",
    "plt.hist(exponential_values, density=True, bins=30, color='purple', alpha=0.7, edgecolor='black')\n",
    "plt.title(f\"Exponential Distribution (λ = {lambda_})\")\n",
    "plt.xlabel(\"x (Time until the next call)\")\n",
    "plt.ylabel(\"P(x)\")\n",
    "plt.show()"
   ]
  },
  {
   "cell_type": "markdown",
   "metadata": {
    "id": "O_k0Zz1hnl76"
   },
   "source": [
    "The **normal** distribution is a continuous probability symmetric distribution, characterized by its bell-shaped curve, where most of the values cluster around the mean.\n",
    "\n",
    "molte cose del mondo reale si modellano con la normale. molti metodi statistici assumono normalità. Nella distribuzione normale la media=moda=mediana"
   ]
  },
  {
   "cell_type": "code",
   "execution_count": 26,
   "metadata": {
    "colab": {
     "base_uri": "https://localhost:8080/",
     "height": 524
    },
    "id": "KZ1yhnoIgS_j",
    "outputId": "640b4df3-1ec6-4206-8e87-d4688c815df1"
   },
   "outputs": [
    {
     "data": {
      "image/png": "[encoded data removed]",
      "text/plain": [
       "<Figure size 640x480 with 1 Axes>"
      ]
     },
     "metadata": {},
     "output_type": "display_data"
    }
   ],
   "source": [
    "mu, sigma_2 = 170, 10\n",
    "\n",
    "n_values = 100000\n",
    "normal_values = np.random.normal(loc=mu, scale=sigma_2**0.5, size=n_values)\n",
    "\n",
    "expected_value = mu\n",
    "variance = sigma_2\n",
    "\n",
    "plt.hist(normal_values, density=True, bins=30, color='cyan', alpha=0.7, edgecolor='black')\n",
    "plt.title(f\"Normal Distribution (μ = {mu}, σ2 = {sigma_2})\")\n",
    "plt.xlabel(\"x\")\n",
    "plt.ylabel(\"φ(x)\")\n",
    "plt.show()"
   ]
  },
  {
   "cell_type": "markdown",
   "metadata": {
    "id": "pEsRFmWJjocj"
   },
   "source": [
    "# Inferential Statistics\n",
    "\n",
    "\n"
   ]
  },
  {
   "cell_type": "markdown",
   "metadata": {
    "id": "3z_dMvQgj8ny"
   },
   "source": [
    "**Inferential statistical** infers properties of a population, for example by testing hypotheses and estimating population parameters (e.g. the mean). It is assumed that the observed data set is sampled from a larger population.\n",
    "\n",
    "Descriptive statistics on the other hand is only concerned with properties of the observed data, and it does not assume that the data come from a larger population.\n",
    "\n",
    "**La statistica inferenziale** deduce le proprietà di una popolazione, ad esempio testando ipotesi e stimando parametri della popolazione (ad esempio la media). Si presume che il set di dati osservato sia campionato da una popolazione più ampia.\n",
    "\n",
    "La statistica descrittiva, d'altro canto, si occupa solo delle proprietà dei dati osservati e non presuppone che i dati provengano da una popolazione più ampia."
   ]
  },
  {
   "cell_type": "markdown",
   "metadata": {
    "id": "nSV2BIxGxXG8"
   },
   "source": [
    "## Sampling"
   ]
  },
  {
   "cell_type": "markdown",
   "metadata": {
    "id": "_4yKMWPshZZ7"
   },
   "source": [
    "A **statistical population** refers to a set of similar items or events which is of interest for some question or experiment. It can be real (e.g. male US citizens) or hypothetical (e.g. the set of all possible hands in a game of poker).\n",
    "\n",
    "**Sampling** is the selection of a subset (statistical sample) from a statistical population in order to estimate characteristics about the whole population.\n",
    "\n",
    "The goal is to gather a representative sample, i.e. one that is able to reflect the whole population.\n",
    "\n",
    "La statistica inferenziale deduce le proprietà di una popolazione, ad esempio testando ipotesi e stimando parametri della popolazione (ad esempio la media). Si presume che il set di dati osservato sia campionato da una popolazione più ampia.\n",
    "\n",
    "La statistica descrittiva, d'altro canto, si occupa solo delle proprietà dei dati osservati e non presuppone che i dati provengano da una popolazione più ampia.\n",
    "\n",
    "L'obiettivo è quello di raccogliere un campione rappresentativo, cioè in grado di riflettere l'intera popolazione."
   ]
  },
  {
   "cell_type": "code",
   "execution_count": 27,
   "metadata": {
    "colab": {
     "base_uri": "https://localhost:8080/",
     "height": 507
    },
    "id": "e566af0Ij52B",
    "outputId": "5b02900b-bd79-46f5-f0c9-f913ec8532ae"
   },
   "outputs": [
    {
     "name": "stdout",
     "output_type": "stream",
     "text": [
      "Expected Value (Population Mean): 100.08\n",
      "Sample Mean: 99.47\n"
     ]
    },
    {
     "data": {
      "image/png": "[encoded data removed]",
      "text/plain": [
       "<Figure size 640x480 with 1 Axes>"
      ]
     },
     "metadata": {},
     "output_type": "display_data"
    }
   ],
   "source": [
    "population = np.random.normal(loc=100, scale=15, size=100000)\n",
    "\n",
    "sample_size = int(0.01 * len(population))\n",
    "sample = np.random.choice(population, size=sample_size, replace=False)\n",
    "\n",
    "plt.hist(population, bins=50, alpha=0.5, label='Population', color='blue', density=True)\n",
    "plt.hist(sample, bins=50, alpha=0.5, label='Sample', color='orange', density=True)\n",
    "plt.title(\"Population vs Sample\")\n",
    "plt.xlabel(\"Value\")\n",
    "plt.ylabel(\"Density\")\n",
    "plt.legend()\n",
    "\n",
    "expected_value = np.mean(population)\n",
    "sample_mean = np.mean(sample)\n",
    "\n",
    "print(f\"Expected Value (Population Mean): {expected_value:.2f}\")\n",
    "print(f\"Sample Mean: {sample_mean:.2f}\")"
   ]
  },
  {
   "cell_type": "markdown",
   "metadata": {
    "id": "l9_Ni1RzzhPx"
   },
   "source": [
    "## Law of Large Numbers"
   ]
  },
  {
   "cell_type": "markdown",
   "metadata": {
    "id": "wT1iey0tnGwW"
   },
   "source": [
    "The law of large numbers states that given a large sample of independent and identically distributed values, the sample mean converges to the true mean (expected value)."
   ]
  },
  {
   "cell_type": "markdown",
   "metadata": {},
   "source": [
    "All'aumentare della grandezza del campione la media della distribuzione campionaria si avvicinerà sempre di puù alla media della popolazione\n",
    "\n"
   ]
  },
  {
   "cell_type": "code",
   "execution_count": 28,
   "metadata": {
    "colab": {
     "base_uri": "https://localhost:8080/",
     "height": 472
    },
    "id": "gniJaYkBP6sv",
    "outputId": "643537c8-5cdb-4d26-c5d4-7705b5e70d58"
   },
   "outputs": [
    {
     "data": {
      "text/plain": [
       "array([1, 1, 0, ..., 1, 0, 1], shape=(10000,))"
      ]
     },
     "execution_count": 28,
     "metadata": {},
     "output_type": "execute_result"
    }
   ],
   "source": [
    "np.random.seed(1)\n",
    "\n",
    "p=0.5\n",
    "n_trials = 10000\n",
    "\n",
    "results = np.random.choice([0, 1], size = n_trials)\n",
    "cumulative_mean = np.cumsum(results) / np.arange(1, n_trials +1)\n",
    "\n",
    "results"
   ]
  },
  {
   "cell_type": "markdown",
   "metadata": {
    "id": "yractLEvz7Vy"
   },
   "source": [
    "## Monte Carlo methods"
   ]
  },
  {
   "cell_type": "markdown",
   "metadata": {
    "id": "HX3GdSBUmtWT"
   },
   "source": [
    "I metodi Monte Carlo sono una classe di algoritmi computazionali che si basano su campionamenti casuali ripetuti per ottenere risultati numerici. Sono un buon esempio della legge dei grandi numeri, perché maggiore è il numero di ripetizioni, migliore tende a essere l'approssimazione. Sono spesso implementati tramite simulazioni al computer.\n",
    "\n",
    "Servono per far vedere gli effetti della legge dei grandi numeri.\n",
    "Provo a simulare un gioco di roulette"
   ]
  },
  {
   "cell_type": "code",
   "execution_count": 29,
   "metadata": {
    "colab": {
     "base_uri": "https://localhost:8080/",
     "height": 528
    },
    "id": "b0U_eMODcGC7",
    "outputId": "5f61edd9-a2c9-4ea0-bc62-b39ff4299a61"
   },
   "outputs": [],
   "source": [
    "#European roulet: 37 slots (0 to 36)\n",
    "\n",
    "#always bet on black\n",
    "#initial bet 1€\n",
    "\n",
    "def roulette_spin():\n",
    "    wheel = [i for i in range (0, 37)]\n",
    "    results = np.random.choice(wheel)\n",
    "    return result\n",
    "\n",
    "def play_roulette_game(n_spins):\n",
    "\n",
    "    balance = 0\n",
    "    bet = 1\n",
    "\n",
    "    for _ in range (n_spins):\n",
    "        result = roulette_spun()"
   ]
  },
  {
   "cell_type": "markdown",
   "metadata": {
    "id": "xKq3V9n2euO8"
   },
   "source": [
    "## Central Limit Theorem"
   ]
  },
  {
   "cell_type": "markdown",
   "metadata": {
    "id": "INlLWxHAeuO8"
   },
   "source": [
    "Il **Teorema del limite centrale** (CLT) afferma che la distribuzione delle medie campionarie si avvicinerà a una distribuzione normale all'aumentare della dimensione del campione (solitamente 30 è sufficiente), indipendentemente dalla forma di distribuzione della popolazione originale.\n",
    "\n",
    "Ciò significa che se prendessimo molti campioni casuali di dimensione $n$ da una popolazione qualsiasi e ne calcolassimo le medie, la distribuzione di tali medie sarà:\n",
    "approssimativamente normale, centrata sulla vera media della popolazione $\\mu$ e con una deviazione standard data da $\\frac{\\sigma}{\\sqrt{n}}$, dove $\\sigma$ è la deviazione standard della popolazione."
   ]
  },
  {
   "cell_type": "markdown",
   "metadata": {},
   "source": [
    "la distribuzione normale è cosi importante in statistica per questo teorema. Possiamo avere una qualsiasi distribuzione anche non norale, se noi dalla distribuzione estraiamo casualmente dei valori e calcoliamo la distribuzione delle medie campionarie questa si distribuisce normalmente.\n",
    "\n",
    "questo teorema vale solo per le medie non per gli altri parametri."
   ]
  },
  {
   "cell_type": "code",
   "execution_count": 30,
   "metadata": {
    "colab": {
     "base_uri": "https://localhost:8080/",
     "height": 489
    },
    "id": "7cH5KAOeeuO8",
    "outputId": "4e19f57b-10f9-4706-9c7d-52738516bf2d"
   },
   "outputs": [],
   "source": [
    "sample_size = 1000\n",
    "sample_means = [np.mean(np.random.uniform(1, 100, sample_size)) for _ in range (10000)]"
   ]
  },
  {
   "cell_type": "markdown",
   "metadata": {
    "id": "bYBnNbCyl3i6"
   },
   "source": [
    "## Standard Errors and Confidence Intervals"
   ]
  },
  {
   "cell_type": "markdown",
   "metadata": {
    "id": "7C08-QgfWerk"
   },
   "source": [
    "L'**Errore Standard** (SE) misura la variabilità di una statistica campionaria rispetto al parametro della popolazione reale. Riflette quanto varierebbe la statistica campionaria se campioni diversi fossero estratti dalla stessa popolazione.\n",
    "\n",
    "È definito come la deviazione standard della distribuzione campionaria della statistica. Dal CLT sappiamo che le medie campionarie seguono una distribuzione normale con deviazione standard $\\frac{\\sigma}{\\sqrt{n}}$, che è quindi l'errore standard per la media campionaria)."
   ]
  },
  {
   "cell_type": "markdown",
   "metadata": {},
   "source": [
    "misura di quanto varia una statistica che noi ricaviamo da un campione. molto spesso questa statistica sarà la media. è una misura che indica quanto varierebbe la stima di un paramentro se noi estraessimo tanti campioni. Nella pratica non si può avere accesso a tanti campioni. \n",
    "\n",
    "la variabilità dipende dal campione, più il campione è piccolo più la standard deviation sarà grnade. più il campione è piccolo più avro variabilità"
   ]
  },
  {
   "cell_type": "code",
   "execution_count": 31,
   "metadata": {
    "colab": {
     "base_uri": "https://localhost:8080/"
    },
    "id": "lqGg4kByThOw",
    "outputId": "e25b7d92-6b7d-417d-8d1f-2b5d93654216"
   },
   "outputs": [
    {
     "name": "stdout",
     "output_type": "stream",
     "text": [
      "Sample size: (size) | Sample Mean: 98.61 | Standard Error: 4.58\n",
      "Sample size: (size) | Sample Mean: 101.15 | Standard Error: 1.50\n",
      "Sample size: (size) | Sample Mean: 100.17 | Standard Error: 0.50\n",
      "Sample size: (size) | Sample Mean: 100.12 | Standard Error: 0.15\n"
     ]
    }
   ],
   "source": [
    "np.random.seed(42)\n",
    "\n",
    "population = np.random.normal(loc=100, scale= 15, size=100000)\n",
    "\n",
    "def compute_mean_se(sample_size):\n",
    "    sample = np.random.choice(population, size= sample_size, replace=False)\n",
    "    sample_mean = np.mean(sample)\n",
    "    sample_std = np.std(sample, ddof=1)\n",
    "    standard_error = sample_std / np.sqrt(sample_size)\n",
    "    return sample_mean, standard_error\n",
    "\n",
    "sample_size = [10, 100, 1000, 10000]\n",
    "\n",
    "for size in sample_size:\n",
    "    mean, se = compute_mean_se(size)\n",
    "    print(f\"Sample size: (size) | Sample Mean: {mean:.2f} | Standard Error: {se:.2f}\")"
   ]
  },
  {
   "cell_type": "markdown",
   "metadata": {
    "id": "zKwjFgB9YWtw"
   },
   "source": [
    "L'errore standard funge da componente cruciale nel calcolo degli **intervalli di confidenza**, che forniscono un intervallo di valori plausibili per un parametro della popolazione, con un livello di confidenza specificato. Un intervallo di confidenza viene calcolato dai dati. Diversi campioni casuali estratti dalla stessa popolazione producono diversi intervalli di confidenza. Il livello di confidenza è la proporzione di CI che, all'aumentare del numero di campioni, contengono teoricamente il valore reale del parametro."
   ]
  },
  {
   "cell_type": "markdown",
   "metadata": {
    "id": "B8iTuRB2pWYZ"
   },
   "source": [
    "In generale, l'intervallo di confidenza per la stima di un parametro $\\theta$ è dato da:\n",
    "$$\n",
    "\\left[ \\widehat{\\theta} - c_{\\alpha} \\times \\text{SE}(\\widehat{\\theta}), \\quad \\widehat{\\theta} + c_{\\alpha} \\times \\text{SE}(\\widehat{\\theta}) \\right]\n",
    "$$\n",
    "dove $c_{\\alpha}$ è il valore critico di una distribuzione statistica rilevante. Il valore critico è il punto sulla distribuzione di probabilità che corrisponde al livello di confidenza desiderato. Rappresenta il numero di deviazioni standard dalla media che cattura la percentuale specificata dei dati. Il valore critico viene moltiplicato per l'errore standard della statistica campionaria per calcolare il margine di errore, che definisce quanto sarà ampio o stretto l'intervallo di confidenza.\n",
    "\n",
    "La scelta della distribuzione statistica dipende dalla distribuzione campionaria sottostante della statistica che viene stimata. Sappiamo che per campioni di grandi dimensioni la distribuzione delle medie campionarie è approssimativamente normale, anche quando la distribuzione della popolazione non lo è: ecco perché gli intervalli di confidenza per la media utilizzano valori z (valori critici da una distribuzione normale)."
   ]
  },
  {
   "cell_type": "code",
   "execution_count": 32,
   "metadata": {
    "colab": {
     "base_uri": "https://localhost:8080/"
    },
    "id": "1o3uOLFUT1H5",
    "outputId": "8e5df86a-5114-420d-e933-daac0fc985ec"
   },
   "outputs": [
    {
     "name": "stdout",
     "output_type": "stream",
     "text": [
      "Sample Mean: 99.98\n",
      "95% Confidence Interval: (99.88, 100.07)\n"
     ]
    }
   ],
   "source": [
    "import scipy.stats as stats\n",
    "\n",
    "population = np.random.normal(loc=100, scale=15, size=100000)\n",
    "\n",
    "sample_size = 100000\n",
    "sample = np.random.choice(population, size=sample_size, replace=False)\n",
    "\n",
    "sample_mean = np.mean(sample)\n",
    "sample_std = np.std(sample, ddof=1)\n",
    "standard_error = sample_std / np.sqrt(sample_size)\n",
    "\n",
    "confidence_level = 0.95\n",
    "z_critical = stats.norm.ppf((1 + confidence_level) / 2)\n",
    "margin_of_error = z_critical * standard_error\n",
    "ci_lower, ci_upper = sample_mean - margin_of_error, sample_mean + margin_of_error\n",
    "\n",
    "print(f\"Sample Mean: {sample_mean:.2f}\")\n",
    "print(f\"95% Confidence Interval: ({ci_lower:.2f}, {ci_upper:.2f})\")"
   ]
  },
  {
   "cell_type": "code",
   "execution_count": 33,
   "metadata": {
    "colab": {
     "base_uri": "https://localhost:8080/",
     "height": 564
    },
    "id": "PNFTggNanoJp",
    "outputId": "53f75f33-8bca-48e7-ae3a-3384b5c52f90"
   },
   "outputs": [
    {
     "data": {
      "image/png": "[encoded data removed]",
      "text/plain": [
       "<Figure size 800x600 with 1 Axes>"
      ]
     },
     "metadata": {},
     "output_type": "display_data"
    }
   ],
   "source": [
    "n_simulations = 100  # Number of confidence intervals to generate\n",
    "sample_size = 50\n",
    "true_mean = np.mean(population)\n",
    "\n",
    "plt.figure(figsize=(8, 6))\n",
    "\n",
    "for i in range(n_simulations):\n",
    "    sample = np.random.choice(population, size=sample_size, replace=False)\n",
    "    sample_mean = np.mean(sample)\n",
    "    standard_error = np.std(sample, ddof=1) / np.sqrt(sample_size)\n",
    "    margin_of_error = z_critical * standard_error\n",
    "    ci_lower, ci_upper = sample_mean - margin_of_error, sample_mean + margin_of_error\n",
    "\n",
    "    # Plot each confidence interval\n",
    "    plt.plot([ci_lower, ci_upper], [i, i], color='blue' if (ci_lower <= true_mean <= ci_upper) else 'red')\n",
    "    plt.plot(sample_mean, i, 'bo')  # Sample mean point\n",
    "\n",
    "# Plot the true population mean as a vertical line\n",
    "plt.axvline(true_mean, color='black', linestyle=\"--\", label=\"True Mean\")\n",
    "plt.xlabel(\"Sample Mean with Confidence Interval\")\n",
    "plt.ylabel(\"Simulation Index\")\n",
    "plt.title(\"Multiple 95% Confidence Intervals\")\n",
    "plt.legend()\n",
    "plt.show()"
   ]
  },
  {
   "cell_type": "markdown",
   "metadata": {
    "id": "pjZ41ehiB9AM"
   },
   "source": [
    "## Bootstrap"
   ]
  },
  {
   "cell_type": "markdown",
   "metadata": {
    "id": "NkXoPe50K4UH"
   },
   "source": [
    "Il bootstrap è un metodo di ricampionamento utilizzato per stimare la distribuzione di una statistica estraendo ripetutamente campioni con sostituzione dai dati originali.\n",
    "\n",
    "Il bootstrap non richiede ipotesi sulla distribuzione dei dati, il che lo rende utile per dati non normali (o in generale quando la distribuzione è complessa/sconosciuta). Fornisce inoltre stime migliori rispetto ai metodi teorici tradizionali quando la dimensione del campione è piccola.\n",
    "\n",
    "Può essere utilizzato, ad esempio, per costruire intervalli di confidenza e stimare l'errore standard di una statistica quando i metodi tradizionali non sono applicabili."
   ]
  },
  {
   "cell_type": "code",
   "execution_count": 34,
   "metadata": {
    "colab": {
     "base_uri": "https://localhost:8080/",
     "height": 599
    },
    "id": "Hf9WH-5tS0S4",
    "outputId": "efb042f8-ff04-4dec-c456-a3da0bf4abbb"
   },
   "outputs": [
    {
     "name": "stdout",
     "output_type": "stream",
     "text": [
      "Bootstrap Standard Error: 0.345\n",
      "95% Bootstrap Confidence Interval: [1.193, 2.520]\n"
     ]
    }
   ],
   "source": [
    "np.random.seed(42)\n",
    "\n",
    "lambda_param = 1 / 3\n",
    "data = np.random.exponential(scale=1/lambda_param, size=100)\n",
    "\n",
    "def bootstrap_resample(data, statistic_func, n_bootstrap_samples):\n",
    "    bootstrap_stats = []\n",
    "    n = len(data)\n",
    "    for _ in range(n_bootstrap_samples):\n",
    "        sample = np.random.choice(data, size=n, replace=True)\n",
    "        bootstrap_stats.append(statistic_func(sample))\n",
    "    return np.array(bootstrap_stats)\n",
    "\n",
    "n_bootstrap_samples = 10000\n",
    "bootstrap_medians = bootstrap_resample(data, np.median, n_bootstrap_samples)\n",
    "\n",
    "standard_error = np.std(bootstrap_medians)\n",
    "ci_lower = np.percentile(bootstrap_medians, 2.5)\n",
    "ci_upper = np.percentile(bootstrap_medians, 97.5)\n",
    "\n",
    "print(f\"Bootstrap Standard Error: {standard_error:.3f}\")\n",
    "print(f\"95% Bootstrap Confidence Interval: [{ci_lower:.3f}, {ci_upper:.3f}]\")"
   ]
  },
  {
   "cell_type": "markdown",
   "metadata": {
    "id": "c2z2HZmTDQ7D"
   },
   "source": [
    "## Hypothesis Testing"
   ]
  },
  {
   "cell_type": "markdown",
   "metadata": {
    "id": "mQAgNUosijYc"
   },
   "source": [
    "Un test di ipotesi statistica è un metodo di inferenza statistica che verifica se i dati supportano sufficientemente una particolare ipotesi. In particolare, aiuta a determinare se un effetto osservato è statisticamente significativo o se avrebbe potuto verificarsi per caso."
   ]
  },
  {
   "cell_type": "markdown",
   "metadata": {
    "id": "gT45W5avjrW7"
   },
   "source": [
    "Per prima cosa, definiamo le ipotesi nulla e alternativa. In genere, l'ipotesi alternativa $H_a$ postula semplicemente che l'ipotesi nulla $H_0$ non è valida. Per trovare prove a favore o contro l'ipotesi nulla, dobbiamo calcolare una statistica di test T. Il modo in cui costruiamo T dipende dalla natura dell'ipotesi nulla che stiamo testando. Il valore p è definito come la probabilità di osservare una statistica di test uguale o più estrema della statistica osservata, nell'ipotesi che $H_0$ sia vera. Pertanto, un piccolo valore p fornisce prove per rifiutare $H_0$. I valori tipici per rifiutare $H_0$ sono 0,05 e 0,01."
   ]
  },
  {
   "cell_type": "markdown",
   "metadata": {
    "id": "p37c9i2BuC5g"
   },
   "source": [
    "Un test unilaterale cerca la significatività statistica solo su una coda della distribuzione e quindi in genere inquadriamo le nostre ipotesi nulle e alternative usando disuguaglianze.\n",
    "\n",
    "In un test bilaterale, inquadriamo le ipotesi nulle e alternative in una struttura \"uguale\" e \"non uguale\". Ciò significa che distribuiamo la nostra soglia di significatività statistica del valore p a entrambe le code, non solo a una. Ciò significa che il test bilaterale rende più difficile rifiutare l'ipotesi nulla e richiede prove più forti per superare un test."
   ]
  },
  {
   "cell_type": "markdown",
   "metadata": {
    "id": "rhsjAvNm7dFM"
   },
   "source": [
    "Esistono numerosi tipi di test di significatività, a seconda del tipo di dati, di quanti campioni ci sono e di cosa viene misurato. Uno molto comune è il t-test, utilizzato per i test di confronto in cui i dati sono numerici."
   ]
  },
  {
   "cell_type": "code",
   "execution_count": 35,
   "metadata": {
    "colab": {
     "base_uri": "https://localhost:8080/",
     "height": 521
    },
    "id": "A7dcxZRTnUHq",
    "outputId": "3eb40c64-a34c-46c5-ea74-6989f33d08c3"
   },
   "outputs": [
    {
     "name": "stdout",
     "output_type": "stream",
     "text": [
      "Failed to reject H0\n"
     ]
    },
    {
     "data": {
      "text/plain": [
       "<matplotlib.legend.Legend at 0x1ab8d12b250>"
      ]
     },
     "execution_count": 35,
     "metadata": {},
     "output_type": "execute_result"
    },
    {
     "data": {
      "image/png": "[encoded data removed]",
      "text/plain": [
       "<Figure size 640x480 with 1 Axes>"
      ]
     },
     "metadata": {},
     "output_type": "display_data"
    }
   ],
   "source": [
    "np.random.seed(42)\n",
    "\n",
    "sample_size = 50\n",
    "\n",
    "# H0: the treatment has no effect on blood pressure\n",
    "# H1: the treatment has effect on blood pressure\n",
    "\n",
    "placebo_group = np.random.normal(loc=120, scale=10, size=sample_size)\n",
    "treatment_group = np.random.normal(loc=115, scale=10, size=sample_size)\n",
    "\n",
    "t_stat, p_value = stats.ttest_ind(placebo_group, treatment_group)\n",
    "\n",
    "alpha = 0.05\n",
    "if p_value < alpha:\n",
    "    print(\"Reject H0\")\n",
    "else:\n",
    "    print(\"Failed to reject H0\")\n",
    "\n",
    "x = np.linspace(-4, 4, 1000)\n",
    "pdf = stats.t.pdf(x, df=len(placebo_group) + len(treatment_group) - 2)  # t-distribution\n",
    "\n",
    "# Critical values\n",
    "t_critical_two_tailed = stats.t.ppf(1 - alpha / 2, df=len(placebo_group) + len(treatment_group) - 2)\n",
    "\n",
    "# Plot two-tailed test\n",
    "plt.plot(x, pdf, label=\"t-Distribution\", color=\"blue\")\n",
    "plt.fill_between(x, pdf, where=(x <= -t_critical_two_tailed) | (x >= t_critical_two_tailed),\n",
    "                 color=\"red\", alpha=0.5, label=\"Rejection Region\")\n",
    "plt.axvline(-t_critical_two_tailed, color=\"red\", linestyle=\"--\", label=f\"Critical Value (-{t_critical_two_tailed:.2f})\")\n",
    "plt.axvline(t_critical_two_tailed, color=\"red\", linestyle=\"--\", label=f\"Critical Value (+{t_critical_two_tailed:.2f})\")\n",
    "plt.axvline(t_stat, color=\"green\", linestyle=\"--\", label=f\"Test Statistic ({t_stat:.2f})\")\n",
    "plt.title(\"Two-Tailed Test (H₀: No BP Difference)\")\n",
    "plt.legend()"
   ]
  },
  {
   "cell_type": "code",
   "execution_count": 36,
   "metadata": {
    "colab": {
     "base_uri": "https://localhost:8080/",
     "height": 487
    },
    "id": "lPJYuQxspegt",
    "outputId": "8bcdaa9a-8b2b-4435-d5f8-989840b26a59"
   },
   "outputs": [
    {
     "name": "stdout",
     "output_type": "stream",
     "text": [
      "Failed to reject H0\n"
     ]
    },
    {
     "data": {
      "text/plain": [
       "<matplotlib.legend.Legend at 0x1ab8d332c10>"
      ]
     },
     "execution_count": 36,
     "metadata": {},
     "output_type": "execute_result"
    },
    {
     "data": {
      "image/png": "[encoded data removed]",
      "text/plain": [
       "<Figure size 640x480 with 1 Axes>"
      ]
     },
     "metadata": {},
     "output_type": "display_data"
    }
   ],
   "source": [
    "p_value_one_tailed = p_value / 2\n",
    "\n",
    "alpha = 0.05\n",
    "if p_value_one_tailed < alpha:\n",
    "    print(\"Reject H0\")\n",
    "else:\n",
    "    print(\"Failed to reject H0\")\n",
    "\n",
    "t_critical_one_tailed = stats.t.ppf(1 - alpha, df=len(placebo_group) + len(treatment_group) - 2)\n",
    "\n",
    "plt.plot(x, pdf, label=\"t-Distribution\", color=\"blue\")\n",
    "plt.fill_between(x, pdf, where=(x <= -t_critical_one_tailed), color=\"red\", alpha=0.5, label=\"Rejection Region\")\n",
    "plt.axvline(-t_critical_one_tailed, color=\"red\", linestyle=\"--\", label=f\"Critical Value ({-t_critical_one_tailed:.2f})\")\n",
    "plt.axvline(t_stat, color=\"green\", linestyle=\"--\", label=f\"Test Statistic ({t_stat:.2f})\")\n",
    "plt.title(\"One-Tailed Test (H₀: BP Not Lower)\")\n",
    "plt.legend()"
   ]
  },
  {
   "cell_type": "markdown",
   "metadata": {
    "id": "pB4JOcA4r5bz"
   },
   "source": [
    "Se rifiutiamo erroneamente $H_0$ quando è vero, abbiamo un errore di Tipo I. Se non rifiutiamo $H_0$ quando è falso, abbiamo un errore di Tipo II. La potenza del test di ipotesi è definita come la probabilità di non commettere un errore di Tipo II dato che $H_a$ è vero, ovvero la probabilità di rifiutare correttamente $H_0$."
   ]
  },
  {
   "cell_type": "code",
   "execution_count": 37,
   "metadata": {
    "colab": {
     "base_uri": "https://localhost:8080/"
    },
    "id": "N2KnVnAGpJmS",
    "outputId": "5efed0c3-707b-44ea-edcb-c3c40353eaa3"
   },
   "outputs": [
    {
     "name": "stdout",
     "output_type": "stream",
     "text": [
      "Required sample size for 80% power: 64\n",
      "Required sample size for 80% power in the one-sided case: 50\n"
     ]
    }
   ],
   "source": [
    "import statsmodels.stats.power as smp\n",
    "\n",
    "# Power analysis for t-test\n",
    "effect_size = 0.5  # Medium effect size\n",
    "alpha = 0.05\n",
    "power = 0.8\n",
    "\n",
    "# Compute required sample size\n",
    "sample_size = smp.tt_ind_solve_power(effect_size=effect_size, alpha=alpha, power=power, alternative='two-sided')\n",
    "sample_size_one_sided = smp.tt_ind_solve_power(effect_size=effect_size, alpha=alpha, power=power, alternative='larger')\n",
    "\n",
    "print(f\"Required sample size for 80% power: {sample_size:.0f}\")\n",
    "print(f\"Required sample size for 80% power in the one-sided case: {sample_size_one_sided:.0f}\") "
   ]
  },
  {
   "cell_type": "markdown",
   "metadata": {
    "id": "hsz1wxVa8WUK"
   },
   "source": [
    "La procedura statistica che verifica una differenza statisticamente significativa tra più gruppi è chiamata analisi della varianza, o ANOVA. Proprio come il test t può essere utilizzato per confrontare la media di due gruppi, esiste un test statistico per l'ANOVA basato sulla statistica F.\n",
    "\n",
    "In un'ANOVA \"unidirezionale\", abbiamo un fattore (gruppo) che varia."
   ]
  },
  {
   "cell_type": "code",
   "execution_count": 38,
   "metadata": {
    "colab": {
     "base_uri": "https://localhost:8080/"
    },
    "id": "5AVdmNF0nvsk",
    "outputId": "397a7d4e-54be-4560-f77c-1485f6a27afb"
   },
   "outputs": [
    {
     "name": "stdout",
     "output_type": "stream",
     "text": [
      "ANOVA F-statistic: 12.210, p-value: 0.000\n"
     ]
    }
   ],
   "source": [
    "np.random.seed(42)\n",
    "\n",
    "diet_1 = np.random.normal(loc=5, scale=2, size=30)\n",
    "diet_2 = np.random.normal(loc=6, scale=2, size=30)\n",
    "diet_3 = np.random.normal(loc=7, scale=2, size=30)\n",
    "\n",
    "f_stat, p_value_anova = stats.f_oneway(diet_1, diet_2, diet_3)\n",
    "\n",
    "print(f\"ANOVA F-statistic: {f_stat:.3f}, p-value: {p_value_anova:.3f}\")"
   ]
  },
  {
   "cell_type": "markdown",
   "metadata": {
    "id": "Zj2r5ZZx9QxN"
   },
   "source": [
    "Il test del chi-quadrato viene utilizzato con i dati di conteggio per verificare quanto si adattino a una distribuzione prevista. L'uso più comune è con le tabelle di contingenza, per valutare se l'ipotesi nulla di indipendenza tra le variabili è ragionevole.\n",
    "\n",
    "La teoria statistica asintotica mostra che la distribuzione della statistica del chi-quadrato può essere approssimata da una distribuzione del chi-quadrato."
   ]
  },
  {
   "cell_type": "code",
   "execution_count": 39,
   "metadata": {
    "colab": {
     "base_uri": "https://localhost:8080/"
    },
    "id": "HGZO-Emcorx-",
    "outputId": "8be06ce5-635a-403d-a088-d3da174eb624"
   },
   "outputs": [
    {
     "name": "stdout",
     "output_type": "stream",
     "text": [
      "Reject H₀: There is a significant association between gender and voting preference.\n"
     ]
    }
   ],
   "source": [
    "from scipy.stats import chi2_contingency\n",
    "\n",
    "observed = np.array([[50, 30],\n",
    "                     [20, 60]])\n",
    "\n",
    "# male: 50 voted A, 30 voted B\n",
    "# female: 20 voted A, 60 voted B\n",
    "\n",
    "chi2, p_value, _, _, = chi2_contingency(observed)\n",
    "\n",
    "# Interpret results\n",
    "if p_value < 0.05:\n",
    "    print(\"Reject H₀: There is a significant association between gender and voting preference.\")\n",
    "else:\n",
    "    print(\"Fail to reject H₀: No significant association detected.\")"
   ]
  },
  {
   "cell_type": "markdown",
   "metadata": {
    "id": "dQKkihhrGEd4"
   },
   "source": [
    "# Correlation"
   ]
  },
  {
   "cell_type": "markdown",
   "metadata": {
    "id": "Wv4FnX7vF7s8"
   },
   "source": [
    "## Linear vs Monotonic Correlation"
   ]
  },
  {
   "cell_type": "code",
   "execution_count": 40,
   "metadata": {
    "colab": {
     "base_uri": "https://localhost:8080/",
     "height": 458
    },
    "id": "rgb6Uje0F7s8",
    "outputId": "860c1600-9335-4812-bb37-43b043e080c6"
   },
   "outputs": [
    {
     "data": {
      "image/png": "[encoded data removed]",
      "text/plain": [
       "<Figure size 640x480 with 1 Axes>"
      ]
     },
     "metadata": {},
     "output_type": "display_data"
    }
   ],
   "source": [
    "import numpy as np\n",
    "import matplotlib.pyplot as plt\n",
    "from scipy.stats import pearsonr, spearmanr\n",
    "\n",
    "# Create a dataset with a monotonic but non-linear relationship\n",
    "x = np.linspace(0, 10, 100)\n",
    "y = np.exp(x) + np.random.normal(0, 50, size=len(x))  # Exponential relationship with noise\n",
    "\n",
    "# Calculate Pearson and Spearman coefficients\n",
    "pearson_coeff, _ = pearsonr(x, y)\n",
    "spearman_coeff, _ = spearmanr(x, y)\n",
    "\n",
    "# Plot the data\n",
    "plt.scatter(x, y, label=f'Pearson Coefficient: {pearson_coeff:.2f}, Spearman Coefficient: {spearman_coeff:.2f}')\n",
    "plt.xlabel('X')\n",
    "plt.ylabel('Y')\n",
    "plt.legend()\n",
    "plt.grid(True)\n",
    "plt.show()"
   ]
  },
  {
   "cell_type": "markdown",
   "metadata": {},
   "source": [
    "## Exercises"
   ]
  },
  {
   "cell_type": "markdown",
   "metadata": {},
   "source": [
    "1) Write a Python function that determines if the distribution of a pandas Series is symmetric, right-skewed or left-skewed.\n",
    "\n",
    "2) A disease affects 2% of a population. The population is divided into three age groups:\n",
    "\t•\tYoung (50%): False positive rate 3%, sensitivity 95%.\n",
    "\t•\tMiddle-aged (30%): False positive rate 4%, sensitivity 90%.\n",
    "\t•\tElderly (20%): False positive rate 5%, sensitivity 85%.\n",
    "\n",
    "N.B.\n",
    "False positive rate: probability of a person testing positive when they do not have the disease.\n",
    "Sensitivity/True positive rate: probability of a person testing positive when they have the disease.\n",
    "\n",
    "If a random person from the population tests positive, what is the probability they actually have the disease?"
   ]
  },
  {
   "cell_type": "markdown",
   "metadata": {},
   "source": [
    "# ESERCIZIO 1"
   ]
  },
  {
   "cell_type": "code",
   "execution_count": 41,
   "metadata": {},
   "outputs": [],
   "source": [
    "#NON è OK la funzione si basa solo sul conteggio dei valori a destra e a sinistra della media. Tuttavia, una distribuzione potrebbe essere asimmetrica anche se la media non è perfettamente al centro, quindi una semplice comparazione dei valori che sono a destra e a sinistra della media potrebbe non essere sufficiente per determinare correttamente la simmetria.\n",
    "def analizza_simmetria(series):\n",
    "    # Calcola la media\n",
    "    media = series.media()\n",
    "    \n",
    "    # Conta i valori a destra e a sinistra della media\n",
    "    destra = sum(series > media)\n",
    "    sinistra = sum(series < media)\n",
    "    \n",
    "    # Se i valori a destra e sinistra sono uguali, è simmetrica\n",
    "    if destra == sinistra:\n",
    "        return \"Simmetrica\"\n",
    "    \n",
    "    # Altrimenti, determina quale lato ha più valori\n",
    "    elif destra > sinistra:\n",
    "        return \"Asimmetrica verso destra\"\n",
    "    else:\n",
    "        return \"Asimmetrica verso sinistra\"\n"
   ]
  },
  {
   "cell_type": "code",
   "execution_count": 42,
   "metadata": {},
   "outputs": [],
   "source": [
    " #questo è ok!\n",
    "def analizza_simmetria_senza_skew(series):\n",
    "    # Calcola la media e la mediana\n",
    "    media = series.mean()\n",
    "    mediana = series.median()\n",
    "    \n",
    "    # Determina la simmetria in base alla relazione tra media e mediana\n",
    "    if abs(media - mediana) < 0.05 * media:  # Considera simmetrica se la differenza è piccola\n",
    "        return \"Simmetrica\"\n",
    "    elif media > mediana:\n",
    "        return \"Asimmetrica verso destra\"\n",
    "    else:\n",
    "        return \"Asimmetrica verso sinistra\"\n"
   ]
  },
  {
   "cell_type": "code",
   "execution_count": 43,
   "metadata": {},
   "outputs": [
    {
     "name": "stdout",
     "output_type": "stream",
     "text": [
      "Asimmetrica verso destra\n"
     ]
    }
   ],
   "source": [
    "# Creiamo un esempio di serie\n",
    "data = {'Years_of_Experiences': [1, 2, 2, 3, 3, 3, 4, 5, 5, 6, 7, 8, 9, 10, 13, 19, 25, 25, 26, 26, 29]}\n",
    "df = pd.DataFrame(data)\n",
    "\n",
    "# Usa la funzione per determinare la simmetria\n",
    "risultato = analizza_simmetria_senza_skew(df['Years_of_Experiences'])\n",
    "print(risultato)"
   ]
  },
  {
   "cell_type": "code",
   "execution_count": 44,
   "metadata": {},
   "outputs": [
    {
     "data": {
      "text/plain": [
       "np.float64(0.8350701992405158)"
      ]
     },
     "execution_count": 44,
     "metadata": {},
     "output_type": "execute_result"
    }
   ],
   "source": [
    "data = {'Years_of_Experiences': [1, 2, 2, 3, 3, 3, 4, 5, 5, 6, 7, 8, 9, 10, 13, 19, 25, 25, 26, 26, 29]}\n",
    "df = pd.DataFrame(data)\n",
    "df['Years_of_Experiences'].skew()"
   ]
  },
  {
   "cell_type": "markdown",
   "metadata": {},
   "source": [
    "# ESERCIZIO 2"
   ]
  },
  {
   "cell_type": "code",
   "execution_count": 45,
   "metadata": {},
   "outputs": [
    {
     "name": "stdout",
     "output_type": "stream",
     "text": [
      "La probabilità che una persona abbia la malattia, dato che il test è positivo, è: 0.335\n"
     ]
    }
   ],
   "source": [
    "# Probabilità di avere la malattia e di non averla\n",
    "P_M = 0.02  # 2% della popolazione ha la malattia\n",
    "P_NM = 1 - P_M  # Probabilità di non avere la malattia (98%)\n",
    "\n",
    "# Probabilità di essere in una fascia d'età\n",
    "P_Giovani = 0.50  # 50% della popolazione è giovane\n",
    "P_Mezza_eta = 0.30  # 30% della popolazione è di mezza età\n",
    "P_Anziani = 0.20  # 20% della popolazione è anziana\n",
    "\n",
    "# Sensibilità e tasso di falsi positivi per ciascuna fascia d'età\n",
    "sensibilità_giovani = 0.95  # Sensibilità nei giovani (95%)\n",
    "falsi_positivi_giovani = 0.03  # Tasso di falsi positivi nei giovani (3%)\n",
    "\n",
    "sensibilità_mezza_eta = 0.90  # Sensibilità nella fascia di mezza età (90%)\n",
    "falsi_positivi_mezza_eta = 0.04  # Tasso di falsi positivi nella fascia di mezza età (4%)\n",
    "\n",
    "sensibilità_anziani = 0.85  # Sensibilità negli anziani (85%)\n",
    "falsi_positivi_anziani = 0.05  # Tasso di falsi positivi negli anziani (5%)\n",
    "\n",
    "# Calcoliamo la probabilità che una persona risulti positiva (P(Pos))\n",
    "P_Pos = (\n",
    "    # Per i giovani\n",
    "    (sensibilità_giovani * P_M * P_Giovani) + \n",
    "    (falsi_positivi_giovani * P_NM * P_Giovani) +\n",
    "    \n",
    "    # Per la mezza età\n",
    "    (sensibilità_mezza_eta * P_M * P_Mezza_eta) + \n",
    "    (falsi_positivi_mezza_eta * P_NM * P_Mezza_eta) +\n",
    "    \n",
    "    # Per gli anziani\n",
    "    (sensibilità_anziani * P_M * P_Anziani) + \n",
    "    (falsi_positivi_anziani * P_NM * P_Anziani)\n",
    ")\n",
    "\n",
    "# Calcoliamo la probabilità che una persona abbia la malattia dato che il test è positivo (P(M | Pos))\n",
    "P_M_given_Pos = (\n",
    "    (sensibilità_giovani * P_M * P_Giovani) + \n",
    "    (sensibilità_mezza_eta * P_M * P_Mezza_eta) + \n",
    "    (sensibilità_anziani * P_M * P_Anziani)\n",
    ") / P_Pos\n",
    "\n",
    "# Stampa il risultato\n",
    "print(f\"La probabilità che una persona abbia la malattia, dato che il test è positivo, è: {P_M_given_Pos:.3f}\")\n"
   ]
  }
 ],
 "metadata": {
  "colab": {
   "provenance": []
  },
  "kernelspec": {
   "display_name": "Python 3 (ipykernel)",
   "language": "python",
   "name": "python3"
  },
  "language_info": {
   "codemirror_mode": {
    "name": "ipython",
    "version": 3
   },
   "file_extension": ".py",
   "mimetype": "text/x-python",
   "name": "python",
   "nbconvert_exporter": "python",
   "pygments_lexer": "ipython3",
   "version": "3.13.1"
  }
 },
 "nbformat": 4,
 "nbformat_minor": 4
}
