{
 "cells": [
  {
   "cell_type": "markdown",
   "id": "dc6636f2-73f1-455d-8bfb-90e66284cb04",
   "metadata": {},
   "source": [
    "# Exercise: Create a dataframe of at least 1000 rows about an hypothetical list of employees of your company, extract all employees in the IT department and a Salary greater than 55000."
   ]
  },
  {
   "cell_type": "code",
   "execution_count": 2,
   "id": "58a21e1c-fc20-4991-9663-e7de515c787f",
   "metadata": {},
   "outputs": [],
   "source": [
    "import pandas as pd\n",
    "import random\n",
    "import string\n",
    "from faker import Faker"
   ]
  },
  {
   "cell_type": "markdown",
   "id": "ba40817f-2ec2-45fc-8ac8-4b17f81e2f63",
   "metadata": {},
   "source": [
    "inizializzo faker e uso l'italiano per generare nomi e cognomi italiani"
   ]
  },
  {
   "cell_type": "code",
   "execution_count": 3,
   "id": "b367783f-b29e-4533-920a-7816c29c8a2e",
   "metadata": {},
   "outputs": [],
   "source": [
    "fake = Faker('it_IT') "
   ]
  },
  {
   "cell_type": "markdown",
   "id": "a16139d8-b9a0-4c41-8ff6-143de2563995",
   "metadata": {},
   "source": [
    "creo un dataframe con 1000 dipendenti"
   ]
  },
  {
   "cell_type": "code",
   "execution_count": 5,
   "id": "717662ee-e86c-459f-b7a1-8c988a50a9ca",
   "metadata": {},
   "outputs": [],
   "source": [
    "n = 1000\n",
    "reparti = ['IT' , 'Vendite', 'Amministrazione', 'Marketing', 'HR']\n",
    "stipendi_min = 1500\n",
    "stipendi_max = 12000"
   ]
  },
  {
   "cell_type": "markdown",
   "id": "9f539bb9-dfda-4c1b-81ac-0d692af00601",
   "metadata": {},
   "source": [
    "Genero dati per il DataFrame"
   ]
  },
  {
   "cell_type": "code",
   "execution_count": 6,
   "id": "023c20ab-00ae-4b95-a07c-33858cdf3620",
   "metadata": {},
   "outputs": [],
   "source": [
    "data = {\n",
    "    'ID' : [i for i in range(n)],\n",
    "    'Name': [fake.first_name() for _ in range(n)],\n",
    "    'Surname': [fake.last_name() for _ in range(n)],\n",
    "    'Reparto' : [random.choice(reparti) for _ in range (n)],\n",
    "    'Stipendio': [random.randint(stipendi_min, stipendi_max) for _ in range(n)]\n",
    "}\n",
    "df = pd.DataFrame(data)"
   ]
  },
  {
   "cell_type": "code",
   "execution_count": 7,
   "id": "ba100c01-23d6-4ad3-94b3-97cb4056b657",
   "metadata": {},
   "outputs": [
    {
     "data": {
      "text/html": [
       "<div>\n",
       "<style scoped>\n",
       "    .dataframe tbody tr th:only-of-type {\n",
       "        vertical-align: middle;\n",
       "    }\n",
       "\n",
       "    .dataframe tbody tr th {\n",
       "        vertical-align: top;\n",
       "    }\n",
       "\n",
       "    .dataframe thead th {\n",
       "        text-align: right;\n",
       "    }\n",
       "</style>\n",
       "<table border=\"1\" class=\"dataframe\">\n",
       "  <thead>\n",
       "    <tr style=\"text-align: right;\">\n",
       "      <th></th>\n",
       "      <th>ID</th>\n",
       "      <th>Name</th>\n",
       "      <th>Surname</th>\n",
       "      <th>Reparto</th>\n",
       "      <th>Stipendio</th>\n",
       "    </tr>\n",
       "  </thead>\n",
       "  <tbody>\n",
       "    <tr>\n",
       "      <th>0</th>\n",
       "      <td>0</td>\n",
       "      <td>Marco</td>\n",
       "      <td>Bondumier</td>\n",
       "      <td>Marketing</td>\n",
       "      <td>2830</td>\n",
       "    </tr>\n",
       "    <tr>\n",
       "      <th>1</th>\n",
       "      <td>1</td>\n",
       "      <td>Angelo</td>\n",
       "      <td>Staglieno</td>\n",
       "      <td>Vendite</td>\n",
       "      <td>6800</td>\n",
       "    </tr>\n",
       "    <tr>\n",
       "      <th>2</th>\n",
       "      <td>2</td>\n",
       "      <td>Concetta</td>\n",
       "      <td>Cavanna</td>\n",
       "      <td>HR</td>\n",
       "      <td>11391</td>\n",
       "    </tr>\n",
       "    <tr>\n",
       "      <th>3</th>\n",
       "      <td>3</td>\n",
       "      <td>Romolo</td>\n",
       "      <td>Polizzi</td>\n",
       "      <td>HR</td>\n",
       "      <td>1895</td>\n",
       "    </tr>\n",
       "    <tr>\n",
       "      <th>4</th>\n",
       "      <td>4</td>\n",
       "      <td>Marcello</td>\n",
       "      <td>Bonolis</td>\n",
       "      <td>HR</td>\n",
       "      <td>7884</td>\n",
       "    </tr>\n",
       "    <tr>\n",
       "      <th>...</th>\n",
       "      <td>...</td>\n",
       "      <td>...</td>\n",
       "      <td>...</td>\n",
       "      <td>...</td>\n",
       "      <td>...</td>\n",
       "    </tr>\n",
       "    <tr>\n",
       "      <th>995</th>\n",
       "      <td>995</td>\n",
       "      <td>Corrado</td>\n",
       "      <td>Pininfarina</td>\n",
       "      <td>Marketing</td>\n",
       "      <td>9370</td>\n",
       "    </tr>\n",
       "    <tr>\n",
       "      <th>996</th>\n",
       "      <td>996</td>\n",
       "      <td>Massimo</td>\n",
       "      <td>Staglieno</td>\n",
       "      <td>HR</td>\n",
       "      <td>9066</td>\n",
       "    </tr>\n",
       "    <tr>\n",
       "      <th>997</th>\n",
       "      <td>997</td>\n",
       "      <td>Paola</td>\n",
       "      <td>Regge</td>\n",
       "      <td>Marketing</td>\n",
       "      <td>11003</td>\n",
       "    </tr>\n",
       "    <tr>\n",
       "      <th>998</th>\n",
       "      <td>998</td>\n",
       "      <td>Vincenza</td>\n",
       "      <td>Parpinel</td>\n",
       "      <td>IT</td>\n",
       "      <td>3016</td>\n",
       "    </tr>\n",
       "    <tr>\n",
       "      <th>999</th>\n",
       "      <td>999</td>\n",
       "      <td>Giuseppe</td>\n",
       "      <td>Filippelli</td>\n",
       "      <td>Vendite</td>\n",
       "      <td>1853</td>\n",
       "    </tr>\n",
       "  </tbody>\n",
       "</table>\n",
       "<p>1000 rows × 5 columns</p>\n",
       "</div>"
      ],
      "text/plain": [
       "      ID      Name      Surname    Reparto  Stipendio\n",
       "0      0     Marco    Bondumier  Marketing       2830\n",
       "1      1    Angelo    Staglieno    Vendite       6800\n",
       "2      2  Concetta      Cavanna         HR      11391\n",
       "3      3    Romolo      Polizzi         HR       1895\n",
       "4      4  Marcello      Bonolis         HR       7884\n",
       "..   ...       ...          ...        ...        ...\n",
       "995  995   Corrado  Pininfarina  Marketing       9370\n",
       "996  996   Massimo    Staglieno         HR       9066\n",
       "997  997     Paola        Regge  Marketing      11003\n",
       "998  998  Vincenza     Parpinel         IT       3016\n",
       "999  999  Giuseppe   Filippelli    Vendite       1853\n",
       "\n",
       "[1000 rows x 5 columns]"
      ]
     },
     "execution_count": 7,
     "metadata": {},
     "output_type": "execute_result"
    }
   ],
   "source": [
    "df"
   ]
  },
  {
   "cell_type": "markdown",
   "id": "d582dc16-cdb2-49da-9593-a14ecb9af6be",
   "metadata": {},
   "source": [
    "filtriamo i dipendenti del reparto IT con stipendio maggiore di 5500"
   ]
  },
  {
   "cell_type": "code",
   "execution_count": 11,
   "id": "be2d97f8-cd0c-4523-9663-b7decd3ed07c",
   "metadata": {},
   "outputs": [
    {
     "name": "stdout",
     "output_type": "stream",
     "text": [
      "Empty DataFrame\n",
      "Columns: [ID, Name, Surname, Reparto, Stipendio]\n",
      "Index: []\n"
     ]
    }
   ],
   "source": [
    "df_it = df[(df['Reparto'] == 'IT') & (df['Stipendio'] > 55000)]\n",
    "print(df_it)"
   ]
  },
  {
   "cell_type": "markdown",
   "id": "00d041da-16a2-4e4e-b32d-bec0da5a8982",
   "metadata": {},
   "source": [
    "avendo ottenuto un df_it vuoto verifico quanti dipendenti sono presenti nel reparto IT"
   ]
  },
  {
   "cell_type": "code",
   "execution_count": 9,
   "id": "e632d777-3760-4193-a415-015b10e18c5f",
   "metadata": {},
   "outputs": [
    {
     "name": "stdout",
     "output_type": "stream",
     "text": [
      "Numero di dipendenti nel reparto IT: 187\n"
     ]
    }
   ],
   "source": [
    "it_reparto = df[df['Reparto'] == 'IT']\n",
    "print(f\"Numero di dipendenti nel reparto IT: {len(it_reparto)}\")\n"
   ]
  },
  {
   "cell_type": "markdown",
   "id": "2bafdca5-fa55-43ab-bdf8-248e38921be4",
   "metadata": {},
   "source": [
    "verifico quanti dipendenti nel reparto IT hanno uno stipendio maggiore di 5500"
   ]
  },
  {
   "cell_type": "code",
   "execution_count": 10,
   "id": "9ecbfcf3-2aba-43d2-9f09-311fa5184c46",
   "metadata": {},
   "outputs": [
    {
     "name": "stdout",
     "output_type": "stream",
     "text": [
      "Numero di dipendenti IT con stipendio maggiore di 55000: 0\n"
     ]
    }
   ],
   "source": [
    "it_stipendio = it_reparto[it_reparto['Stipendio'] > 55000]\n",
    "print(f\"Numero di dipendenti IT con stipendio maggiore di 55000: {len(it_stipendio)}\")"
   ]
  },
  {
   "cell_type": "code",
   "execution_count": null,
   "id": "70814083-ffac-41df-8225-1925d7da7cc4",
   "metadata": {},
   "outputs": [],
   "source": []
  },
  {
   "cell_type": "code",
   "execution_count": null,
   "id": "988c362b-e04f-43d8-9d00-0d64de4c5b7d",
   "metadata": {},
   "outputs": [],
   "source": []
  }
 ],
 "metadata": {
  "kernelspec": {
   "display_name": "Python 3 (ipykernel)",
   "language": "python",
   "name": "python3"
  },
  "language_info": {
   "codemirror_mode": {
    "name": "ipython",
    "version": 3
   },
   "file_extension": ".py",
   "mimetype": "text/x-python",
   "name": "python",
   "nbconvert_exporter": "python",
   "pygments_lexer": "ipython3",
   "version": "3.13.1"
  }
 },
 "nbformat": 4,
 "nbformat_minor": 5
}
