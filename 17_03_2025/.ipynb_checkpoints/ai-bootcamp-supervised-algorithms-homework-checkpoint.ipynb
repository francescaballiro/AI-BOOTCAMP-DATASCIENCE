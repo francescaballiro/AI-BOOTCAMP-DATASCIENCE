{
 "cells": [
  {
   "cell_type": "markdown",
   "id": "cc93a844",
   "metadata": {},
   "source": [
    "# Supervised Algorithms Homework\n",
    "\n",
    "In this homework assignment, you will apply three fundamental machine learning algorithms to famous datasets:\n",
    "\n",
    "1. **Linear Regression**: Boston Housing Price Prediction\n",
    "2. **Logistic Regression**: Breast Cancer Classification\n",
    "3. **Decision Tree**: Titanic Survival Prediction"
   ]
  },
  {
   "cell_type": "markdown",
   "id": "4ddbde6a",
   "metadata": {},
   "source": [
    "### Instructions\n",
    "\n",
    "- Implement **at least** one algorithm\n",
    "- Complete each section carefully\n",
    "- Add your code where indicated by `# YOUR CODE HERE`\n",
    "- Provide comments explaining your approach"
   ]
  },
  {
   "cell_type": "code",
   "execution_count": 1,
   "id": "ff9a8d3f",
   "metadata": {},
   "outputs": [],
   "source": [
    "# Import required libraries\n",
    "import numpy as np\n",
    "import pandas as pd\n",
    "import matplotlib.pyplot as plt\n",
    "\n",
    "\n",
    "# Machine Learning Libraries\n",
    "from sklearn.model_selection import train_test_split\n",
    "from sklearn.preprocessing import StandardScaler\n",
    "\n",
    "# Specific Algorithms\n",
    "from sklearn.linear_model import LinearRegression, LogisticRegression\n",
    "from sklearn.tree import DecisionTreeClassifier, plot_tree\n",
    "\n",
    "# Metrics and Datasets\n",
    "from sklearn.datasets import fetch_openml\n",
    "from sklearn.datasets import load_breast_cancer\n",
    "from sklearn.metrics import mean_squared_error, r2_score, accuracy_score, classification_report\n",
    "\n",
    "# Set random seed for reproducibility\n",
    "np.random.seed(42)"
   ]
  },
  {
   "cell_type": "markdown",
   "id": "da33c12c",
   "metadata": {},
   "source": [
    "# 1: Linear Regression - Boston Housing Price Prediction\n",
    "\n",
    "### Task\n",
    "- Load the Boston Housing dataset\n",
    "- Preprocess the data\n",
    "- Split into training and testing sets\n",
    "- Train a Linear Regression model\n",
    "- Evaluate model performance"
   ]
  },
  {
   "cell_type": "code",
   "execution_count": 2,
   "id": "e7f67018",
   "metadata": {},
   "outputs": [
    {
     "name": "stderr",
     "output_type": "stream",
     "text": [
      "/Users/kristinakhvatova/anaconda3/lib/python3.11/site-packages/sklearn/datasets/_openml.py:968: FutureWarning: The default value of `parser` will change from `'liac-arff'` to `'auto'` in 1.4. You can set `parser='auto'` to silence this warning. Therefore, an `ImportError` will be raised from 1.4 if the dataset is dense and pandas is not installed. Note that the pandas parser may return different data types. See the Notes Section in fetch_openml's API doc for details.\n",
      "  warn(\n"
     ]
    }
   ],
   "source": [
    "# Load Boston Housing dataset\n",
    "boston = fetch_openml(name=\"boston\", version=1, as_frame=True)\n",
    "\n",
    "# Extract features and target\n",
    "X, y = boston.data, boston.target"
   ]
  },
  {
   "cell_type": "code",
   "execution_count": 3,
   "id": "85ae70dc",
   "metadata": {},
   "outputs": [],
   "source": [
    "# TODO: Split the data into training and testing sets\n",
    "# YOUR CODE HERE"
   ]
  },
  {
   "cell_type": "code",
   "execution_count": 4,
   "id": "1560a88b",
   "metadata": {},
   "outputs": [],
   "source": [
    "# TODO: Scale the features\n",
    "# YOUR CODE HERE"
   ]
  },
  {
   "cell_type": "code",
   "execution_count": 5,
   "id": "cfcb7905",
   "metadata": {},
   "outputs": [],
   "source": [
    "# TODO: Train a Linear Regression model\n",
    "# YOUR CODE HERE"
   ]
  },
  {
   "cell_type": "code",
   "execution_count": 6,
   "id": "80a2bbfb",
   "metadata": {},
   "outputs": [],
   "source": [
    "# TODO: Make predictions and calculate performance metrics\n",
    "# YOUR CODE HERE"
   ]
  },
  {
   "cell_type": "code",
   "execution_count": 7,
   "id": "dcb18e4e",
   "metadata": {},
   "outputs": [],
   "source": [
    "# TODO: Print performance metrics\n",
    "# YOUR CODE HERE"
   ]
  },
  {
   "cell_type": "code",
   "execution_count": null,
   "id": "b43cb390",
   "metadata": {},
   "outputs": [],
   "source": []
  },
  {
   "cell_type": "markdown",
   "id": "9696baea",
   "metadata": {},
   "source": [
    "## Part 2: Logistic Regression - Breast Cancer Classification\n",
    "\n",
    "### Task\n",
    "- Load the Breast Cancer dataset\n",
    "- Preprocess the data\n",
    "- Split into training and testing sets\n",
    "- Train a Logistic Regression model\n",
    "- Evaluate model performance"
   ]
  },
  {
   "cell_type": "code",
   "execution_count": 8,
   "id": "54c5c34b",
   "metadata": {},
   "outputs": [],
   "source": [
    "breast_cancer = load_breast_cancer()\n",
    "X_cancer = pd.DataFrame(breast_cancer.data, columns=breast_cancer.feature_names)\n",
    "y_cancer = breast_cancer.target"
   ]
  },
  {
   "cell_type": "code",
   "execution_count": 9,
   "id": "da26f789",
   "metadata": {},
   "outputs": [],
   "source": [
    "# TODO: Split the data into training and testing sets\n",
    "# YOUR CODE HERE"
   ]
  },
  {
   "cell_type": "code",
   "execution_count": 10,
   "id": "5fcc0bb5",
   "metadata": {},
   "outputs": [],
   "source": [
    "# TODO: Scale the features\n",
    "# YOUR CODE HERE"
   ]
  },
  {
   "cell_type": "code",
   "execution_count": 11,
   "id": "c0f42603",
   "metadata": {},
   "outputs": [],
   "source": [
    "# TODO: Train a Logistic Regression model\n",
    "# YOUR CODE HERE"
   ]
  },
  {
   "cell_type": "code",
   "execution_count": 12,
   "id": "c207fd3b",
   "metadata": {},
   "outputs": [],
   "source": [
    "# TODO: Make predictions and calculate performance metrics\n",
    "# YOUR CODE HERE"
   ]
  },
  {
   "cell_type": "code",
   "execution_count": 13,
   "id": "b228350f",
   "metadata": {},
   "outputs": [],
   "source": [
    "# TODO: Print performance metrics\n",
    "# YOUR CODE HERE"
   ]
  },
  {
   "cell_type": "code",
   "execution_count": null,
   "id": "841a5dd4",
   "metadata": {},
   "outputs": [],
   "source": []
  },
  {
   "cell_type": "markdown",
   "id": "b14a94ae",
   "metadata": {},
   "source": [
    "## Part 3: Decision Tree - Titanic Survival Prediction\n",
    "\n",
    "### Task\n",
    "- Load the Titanic dataset\n",
    "- Preprocess the data (handling missing values, encoding categorical variables)\n",
    "- Split into training and testing sets\n",
    "- Train a Decision Tree Classifier\n",
    "- Evaluate model performance"
   ]
  },
  {
   "cell_type": "code",
   "execution_count": 14,
   "id": "4a3d8221",
   "metadata": {},
   "outputs": [],
   "source": [
    "# Load Titanic dataset\n",
    "titanic = pd.read_csv('https://web.stanford.edu/class/archive/cs/cs109/cs109.1166/stuff/titanic.csv')"
   ]
  },
  {
   "cell_type": "code",
   "execution_count": 15,
   "id": "ea17ada4",
   "metadata": {},
   "outputs": [],
   "source": [
    "# Data Preprocessing\n",
    "# TODO: Handle missing values\n",
    "# YOUR CODE HERE"
   ]
  },
  {
   "cell_type": "code",
   "execution_count": 16,
   "id": "c848291f",
   "metadata": {},
   "outputs": [],
   "source": [
    "# Feature selection\n",
    "\n",
    "features = ['Pclass', 'Sex', 'Age', 'Fare']\n",
    "X_titanic = titanic[features]\n",
    "y_titanic = titanic['Survived']"
   ]
  },
  {
   "cell_type": "code",
   "execution_count": 17,
   "id": "8bc2f421",
   "metadata": {},
   "outputs": [],
   "source": [
    "# TODO: Scale the features\n",
    "# YOUR CODE HERE"
   ]
  },
  {
   "cell_type": "code",
   "execution_count": 18,
   "id": "67a64d11",
   "metadata": {},
   "outputs": [],
   "source": [
    "# TODO: Encode the features\n",
    "# YOUR CODE HERE"
   ]
  },
  {
   "cell_type": "code",
   "execution_count": 19,
   "id": "aff76dce",
   "metadata": {},
   "outputs": [],
   "source": [
    "# TODO: Split the data into training and testing sets\n",
    "# YOUR CODE HERE"
   ]
  },
  {
   "cell_type": "code",
   "execution_count": 20,
   "id": "eb0eb158",
   "metadata": {},
   "outputs": [],
   "source": [
    "# TODO: Train a Decision Tree Classifier\n",
    "# YOUR CODE HERE"
   ]
  },
  {
   "cell_type": "code",
   "execution_count": 21,
   "id": "521a800c",
   "metadata": {},
   "outputs": [],
   "source": [
    "# TODO: Make predictions and calculate performance metrics\n",
    "# YOUR CODE HERE"
   ]
  },
  {
   "cell_type": "code",
   "execution_count": 22,
   "id": "d449eb87",
   "metadata": {},
   "outputs": [],
   "source": [
    "# TODO: Print performance metrics\n",
    "# YOUR CODE HERE"
   ]
  },
  {
   "cell_type": "code",
   "execution_count": 23,
   "id": "05c0e22a",
   "metadata": {},
   "outputs": [],
   "source": [
    "# TODO: Visualize Decisoion Tree\n",
    "# YOUR CODE HERE"
   ]
  }
 ],
 "metadata": {
  "kernelspec": {
   "display_name": "Python 3 (ipykernel)",
   "language": "python",
   "name": "python3"
  },
  "language_info": {
   "codemirror_mode": {
    "name": "ipython",
    "version": 3
   },
   "file_extension": ".py",
   "mimetype": "text/x-python",
   "name": "python",
   "nbconvert_exporter": "python",
   "pygments_lexer": "ipython3",
   "version": "3.11.5"
  }
 },
 "nbformat": 4,
 "nbformat_minor": 5
}
